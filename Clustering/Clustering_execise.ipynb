{
 "cells": [
  {
   "cell_type": "code",
   "execution_count": 2,
   "id": "9cb4090c",
   "metadata": {},
   "outputs": [],
   "source": [
    "import numpy as np\n",
    "import matplotlib.pyplot as plt\n",
    "plt.style.use(['seaborn-whitegrid'])"
   ]
  },
  {
   "cell_type": "code",
   "execution_count": 3,
   "id": "c68c04d5",
   "metadata": {},
   "outputs": [],
   "source": [
    "from sklearn import cluster\n",
    "from sklearn import mixture\n",
    "from sklearn import datasets\n",
    "from sklearn.preprocessing import StandardScaler"
   ]
  },
  {
   "cell_type": "code",
   "execution_count": 4,
   "id": "5db49e70",
   "metadata": {},
   "outputs": [],
   "source": [
    "def plot_data(dataset, position, title):\n",
    "    X, y = dataset\n",
    "    plt.subplot(position)\n",
    "    plt.title(title)\n",
    "    plt.scatter(X[:, 0], X[:, 1])"
   ]
  },
  {
   "cell_type": "code",
   "execution_count": 5,
   "id": "6e1e11b9",
   "metadata": {},
   "outputs": [],
   "source": [
    "from datetime import datetime"
   ]
  },
  {
   "cell_type": "code",
   "execution_count": 10,
   "id": "7094366d",
   "metadata": {},
   "outputs": [],
   "source": [
    "d1 = datetime(1960,3,15)"
   ]
  },
  {
   "cell_type": "code",
   "execution_count": 8,
   "id": "bf916b05",
   "metadata": {},
   "outputs": [],
   "source": [
    "d2 = datetime(1960,4,19)"
   ]
  },
  {
   "cell_type": "code",
   "execution_count": 12,
   "id": "81efb272",
   "metadata": {},
   "outputs": [],
   "source": [
    "d3 = datetime(1960,4,26)"
   ]
  },
  {
   "cell_type": "code",
   "execution_count": 11,
   "id": "670dfdef",
   "metadata": {},
   "outputs": [
    {
     "data": {
      "text/plain": [
       "datetime.timedelta(days=35)"
      ]
     },
     "execution_count": 11,
     "metadata": {},
     "output_type": "execute_result"
    }
   ],
   "source": [
    "d2 - d1"
   ]
  },
  {
   "cell_type": "code",
   "execution_count": 13,
   "id": "5b00758b",
   "metadata": {},
   "outputs": [
    {
     "data": {
      "text/plain": [
       "datetime.timedelta(days=7)"
      ]
     },
     "execution_count": 13,
     "metadata": {},
     "output_type": "execute_result"
    }
   ],
   "source": [
    "d3 - d2"
   ]
  },
  {
   "cell_type": "code",
   "execution_count": 15,
   "id": "333f3653",
   "metadata": {},
   "outputs": [
    {
     "data": {
      "text/plain": [
       "8260"
      ]
     },
     "execution_count": 15,
     "metadata": {},
     "output_type": "execute_result"
    }
   ],
   "source": [
    "118*70"
   ]
  },
  {
   "cell_type": "code",
   "execution_count": 17,
   "id": "343ad258",
   "metadata": {},
   "outputs": [
    {
     "data": {
      "text/plain": [
       "53.103672189407014"
      ]
     },
     "execution_count": 17,
     "metadata": {},
     "output_type": "execute_result"
    }
   ],
   "source": [
    "np.sqrt(2820)"
   ]
  },
  {
   "cell_type": "code",
   "execution_count": null,
   "id": "31253453",
   "metadata": {},
   "outputs": [],
   "source": []
  }
 ],
 "metadata": {
  "kernelspec": {
   "display_name": "Python 3 (ipykernel)",
   "language": "python",
   "name": "python3"
  },
  "language_info": {
   "codemirror_mode": {
    "name": "ipython",
    "version": 3
   },
   "file_extension": ".py",
   "mimetype": "text/x-python",
   "name": "python",
   "nbconvert_exporter": "python",
   "pygments_lexer": "ipython3",
   "version": "3.9.12"
  },
  "toc": {
   "base_numbering": 1,
   "nav_menu": {},
   "number_sections": true,
   "sideBar": true,
   "skip_h1_title": false,
   "title_cell": "Table of Contents",
   "title_sidebar": "Contents",
   "toc_cell": false,
   "toc_position": {},
   "toc_section_display": true,
   "toc_window_display": false
  }
 },
 "nbformat": 4,
 "nbformat_minor": 5
}
