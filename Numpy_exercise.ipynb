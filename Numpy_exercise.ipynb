{
 "cells": [
  {
   "cell_type": "code",
   "execution_count": 1,
   "id": "76be7525",
   "metadata": {},
   "outputs": [
    {
     "data": {
      "text/html": [
       "<style>.container {width: 100%}</style>"
      ],
      "text/plain": [
       "<IPython.core.display.HTML object>"
      ]
     },
     "metadata": {},
     "output_type": "display_data"
    }
   ],
   "source": [
    "from IPython.display import display, HTML\n",
    "display(HTML('<style>.container {width: 100%}</style>'))"
   ]
  },
  {
   "cell_type": "markdown",
   "id": "7afbd1bb",
   "metadata": {},
   "source": [
    "## Numpy 특징\n",
    "- ### Numerical Python의 약자\n",
    "- ### 고성능 과학 계산용 패키지로 강력한 N차원 배열 객체\n",
    "- ### 범용적 데이터 처리에 사용 가능한 다차원 컨테이너\n",
    "- ### 정교한 브로드캐스팅(broadcasting) 기능\n",
    "- ### 파이썬의 자료형 list와 비슷하지만, 더 빠르고 메모리를 효율적으로 관리\n",
    "- ### 반복문 없이 데이터 배열에 대한 처리를 지원하여 빠르고 편리\n",
    "- ### 데이터 과학 도구에 대한 생태계의 핵심을 이루고 있음"
   ]
  },
  {
   "cell_type": "code",
   "execution_count": 2,
   "id": "eea7d255",
   "metadata": {},
   "outputs": [],
   "source": [
    "import numpy as np"
   ]
  },
  {
   "cell_type": "code",
   "execution_count": 3,
   "id": "7d083621",
   "metadata": {},
   "outputs": [
    {
     "data": {
      "text/plain": [
       "'1.20.3'"
      ]
     },
     "execution_count": 3,
     "metadata": {},
     "output_type": "execute_result"
    }
   ],
   "source": [
    "np.__version__"
   ]
  },
  {
   "cell_type": "code",
   "execution_count": 4,
   "id": "d9af9c77",
   "metadata": {},
   "outputs": [
    {
     "name": "stdout",
     "output_type": "stream",
     "text": [
      "[1 2 3 4 5]\n"
     ]
    }
   ],
   "source": [
    "a1 = np.array([1, 2, 3, 4, 5])\n",
    "print(a1)"
   ]
  },
  {
   "cell_type": "code",
   "execution_count": 5,
   "id": "e956af39",
   "metadata": {},
   "outputs": [
    {
     "name": "stdout",
     "output_type": "stream",
     "text": [
      "<class 'numpy.ndarray'>\n"
     ]
    }
   ],
   "source": [
    "print(type(a1)) # ndarray : N-Dimension Array"
   ]
  },
  {
   "cell_type": "code",
   "execution_count": 6,
   "id": "2e03e846",
   "metadata": {},
   "outputs": [
    {
     "name": "stdout",
     "output_type": "stream",
     "text": [
      "(5,)\n"
     ]
    }
   ],
   "source": [
    "print(a1.shape)"
   ]
  },
  {
   "cell_type": "code",
   "execution_count": 7,
   "id": "b271cf36",
   "metadata": {},
   "outputs": [
    {
     "name": "stdout",
     "output_type": "stream",
     "text": [
      "1 2 3 4 5\n"
     ]
    }
   ],
   "source": [
    "print(a1[0], a1[1], a1[2], a1[3], a1[4])"
   ]
  },
  {
   "cell_type": "code",
   "execution_count": 8,
   "id": "557aeaf2",
   "metadata": {},
   "outputs": [
    {
     "name": "stdout",
     "output_type": "stream",
     "text": [
      "10 20 3 4 5\n"
     ]
    }
   ],
   "source": [
    "a1[0] = 10\n",
    "a1[1] = 20\n",
    "\n",
    "print(a1[0], a1[1], a1[2], a1[3], a1[4])"
   ]
  },
  {
   "cell_type": "code",
   "execution_count": 9,
   "id": "f5e3d903",
   "metadata": {},
   "outputs": [
    {
     "name": "stdout",
     "output_type": "stream",
     "text": [
      "[[1 2 3]\n",
      " [4 5 6]\n",
      " [7 8 9]]\n",
      "(3, 3)\n",
      "1 5 8\n"
     ]
    }
   ],
   "source": [
    "a2 = np.array([[1, 2, 3], [4, 5, 6], [7, 8, 9]])\n",
    "print(a2)\n",
    "print(a2.shape)\n",
    "print(a2[0, 0], a2[1, 1],a2[2, 1])"
   ]
  },
  {
   "cell_type": "code",
   "execution_count": 10,
   "id": "5d89762d",
   "metadata": {},
   "outputs": [
    {
     "name": "stdout",
     "output_type": "stream",
     "text": [
      "[[[0 1 2]\n",
      "  [0 1 2]\n",
      "  [0 1 2]]\n",
      "\n",
      " [[0 1 2]\n",
      "  [0 1 2]\n",
      "  [0 1 2]]\n",
      "\n",
      " [[0 1 2]\n",
      "  [0 1 2]\n",
      "  [0 1 2]]]\n",
      "(3, 3, 3)\n",
      "0 1 2\n"
     ]
    }
   ],
   "source": [
    "a3 = np.array([[[0, 1, 2],[0, 1, 2],[0, 1, 2]],[[0, 1, 2],[0, 1, 2],[0, 1, 2]], [[0, 1, 2],[0, 1, 2],[0, 1, 2]]])\n",
    "print(a3)\n",
    "print(a3.shape)\n",
    "print(a3[0, 0, 0], a3[1, 1, 1],a3[2, 1, 2])"
   ]
  },
  {
   "cell_type": "markdown",
   "id": "6bcda771",
   "metadata": {},
   "source": [
    "## 배열 생성 및 초기화\n",
    "- ### zeros() : 모든 요소를 0으로 초기화\n",
    "- ### ones() : 모든 요소를 1으로 초기화\n",
    "- ### full() : 모든 요소를 지정한 값으로 초기화\n",
    "- ### eys() : 단위행렬(Identity matrix) 생성\n",
    "- ### tri() : 삼각행렬 생성\n",
    "- ### empty() : 초기화 하지 않은 행렬 생성 (★ 주의 필요)\n",
    "- ### \\_like() : 지정된 배열과 shape가 같은 행렬 생성"
   ]
  },
  {
   "cell_type": "code",
   "execution_count": 11,
   "id": "1e79ed04",
   "metadata": {},
   "outputs": [
    {
     "data": {
      "text/plain": [
       "array([0., 0., 0., 0., 0., 0., 0., 0., 0., 0.])"
      ]
     },
     "execution_count": 11,
     "metadata": {},
     "output_type": "execute_result"
    }
   ],
   "source": [
    "np.zeros(10)"
   ]
  },
  {
   "cell_type": "code",
   "execution_count": 12,
   "id": "c673b185",
   "metadata": {},
   "outputs": [
    {
     "name": "stdout",
     "output_type": "stream",
     "text": [
      "[1. 1. 1. 1. 1. 1. 1. 1. 1. 1.]\n",
      "---\n",
      "[[1. 1. 1. 1. 1.]\n",
      " [1. 1. 1. 1. 1.]\n",
      " [1. 1. 1. 1. 1.]\n",
      " [1. 1. 1. 1. 1.]\n",
      " [1. 1. 1. 1. 1.]\n",
      " [1. 1. 1. 1. 1.]\n",
      " [1. 1. 1. 1. 1.]\n",
      " [1. 1. 1. 1. 1.]\n",
      " [1. 1. 1. 1. 1.]\n",
      " [1. 1. 1. 1. 1.]]\n"
     ]
    }
   ],
   "source": [
    "print(np.ones(10))\n",
    "print('---')\n",
    "print(np.ones((10,5)))"
   ]
  },
  {
   "cell_type": "code",
   "execution_count": 13,
   "id": "9e6e1bf7",
   "metadata": {},
   "outputs": [
    {
     "data": {
      "text/plain": [
       "array([1.5, 1.5, 1.5, 1.5, 1.5, 1.5, 1.5, 1.5, 1.5, 1.5])"
      ]
     },
     "execution_count": 13,
     "metadata": {},
     "output_type": "execute_result"
    }
   ],
   "source": [
    "np.full(10, 1.5)"
   ]
  },
  {
   "cell_type": "code",
   "execution_count": 14,
   "id": "e898774a",
   "metadata": {},
   "outputs": [
    {
     "data": {
      "text/plain": [
       "array([[1.5, 1.5, 1.5],\n",
       "       [1.5, 1.5, 1.5],\n",
       "       [1.5, 1.5, 1.5]])"
      ]
     },
     "execution_count": 14,
     "metadata": {},
     "output_type": "execute_result"
    }
   ],
   "source": [
    "np.full((3,3), 1.5)"
   ]
  },
  {
   "cell_type": "code",
   "execution_count": 15,
   "id": "1153966e",
   "metadata": {},
   "outputs": [
    {
     "data": {
      "text/plain": [
       "array([[1., 0., 0., 0., 0.],\n",
       "       [0., 1., 0., 0., 0.],\n",
       "       [0., 0., 1., 0., 0.],\n",
       "       [0., 0., 0., 1., 0.],\n",
       "       [0., 0., 0., 0., 1.]])"
      ]
     },
     "execution_count": 15,
     "metadata": {},
     "output_type": "execute_result"
    }
   ],
   "source": [
    "np.eye(5)"
   ]
  },
  {
   "cell_type": "code",
   "execution_count": 16,
   "id": "b2eadb9a",
   "metadata": {},
   "outputs": [
    {
     "data": {
      "text/plain": [
       "array([[1., 0., 0., 0.],\n",
       "       [1., 1., 0., 0.],\n",
       "       [1., 1., 1., 0.],\n",
       "       [1., 1., 1., 1.]])"
      ]
     },
     "execution_count": 16,
     "metadata": {},
     "output_type": "execute_result"
    }
   ],
   "source": [
    "np.tri(4)"
   ]
  },
  {
   "cell_type": "code",
   "execution_count": 17,
   "id": "adb39fa0",
   "metadata": {},
   "outputs": [
    {
     "data": {
      "text/plain": [
       "array([1., 1., 1., 1., 1.])"
      ]
     },
     "execution_count": 17,
     "metadata": {},
     "output_type": "execute_result"
    }
   ],
   "source": [
    "np.empty(5) # 여기 숫자(예, 1.) 은 내가 정한게 아님"
   ]
  },
  {
   "cell_type": "code",
   "execution_count": 18,
   "id": "7e0c147e",
   "metadata": {},
   "outputs": [
    {
     "data": {
      "text/plain": [
       "array([[0, 0, 0],\n",
       "       [0, 0, 0],\n",
       "       [0, 0, 0]])"
      ]
     },
     "execution_count": 18,
     "metadata": {},
     "output_type": "execute_result"
    }
   ],
   "source": [
    "np.zeros_like(a2)"
   ]
  },
  {
   "cell_type": "code",
   "execution_count": 19,
   "id": "da7b30a1",
   "metadata": {},
   "outputs": [
    {
     "data": {
      "text/plain": [
       "array([[1, 1, 1],\n",
       "       [1, 1, 1],\n",
       "       [1, 1, 1]])"
      ]
     },
     "execution_count": 19,
     "metadata": {},
     "output_type": "execute_result"
    }
   ],
   "source": [
    "np.ones_like(a2)"
   ]
  },
  {
   "cell_type": "code",
   "execution_count": 20,
   "id": "c46f2644",
   "metadata": {},
   "outputs": [
    {
     "data": {
      "text/plain": [
       "array([[10, 10, 10],\n",
       "       [10, 10, 10],\n",
       "       [10, 10, 10]])"
      ]
     },
     "execution_count": 20,
     "metadata": {},
     "output_type": "execute_result"
    }
   ],
   "source": [
    "np.full_like(a2, 10)"
   ]
  },
  {
   "cell_type": "markdown",
   "id": "f962419d",
   "metadata": {},
   "source": [
    "## 생성한 값으로 배열 생성\n",
    "- ### np.arange() : 정수 범위로 배열 생성\n",
    "- ### np.linspace() : 범위 내에서 균등 간격의 배열 생성"
   ]
  },
  {
   "cell_type": "code",
   "execution_count": null,
   "id": "3585aa1a",
   "metadata": {},
   "outputs": [],
   "source": []
  },
  {
   "cell_type": "markdown",
   "id": "3d1901b6",
   "metadata": {},
   "source": [
    "## 랜덤 값으로 배열 생성\n",
    "- ### seed() : 난수 발생을 위한 seed 지정\n",
    "- ### permutation() : 순서를 임의로 바꾸거나 임의의 순환 반환\n",
    "- ### shuffle() : 리스트나 배열의 순서를 뒤섞음\n",
    "- ### random() : 랜덤한 수의 배열을 생성\n",
    "- ### rand() : 균등 분포에서 표본 추출\n",
    "- ### randint() : 주어진 최소/최대 범위의 난수 추출\n",
    "- ### randn() : 평균 0, 표준편자 1 인 정규분포의 표본 추출\n",
    "- ### binomial() : 이항 분포에서 표본 추출\n",
    "- ### normal() : 정규 분포(가우시안)에서 표본 추출\n",
    "- ### beta() : 베타 분포에서 표본 추출\n",
    "- ### chisquare() : 카이제곱 분포에서 표본 추출\n",
    "- ### gamma() : 감마 분포에서 표본 추출\n",
    "- ### uniform() : 균등(0,1) 분포에서 표본 추출"
   ]
  },
  {
   "cell_type": "code",
   "execution_count": 21,
   "id": "e5ae5c75",
   "metadata": {},
   "outputs": [
    {
     "data": {
      "text/plain": [
       "4294967296"
      ]
     },
     "execution_count": 21,
     "metadata": {},
     "output_type": "execute_result"
    }
   ],
   "source": [
    "2147483648*2"
   ]
  },
  {
   "cell_type": "code",
   "execution_count": 22,
   "id": "52f355a4",
   "metadata": {},
   "outputs": [
    {
     "data": {
      "text/plain": [
       "8589934592"
      ]
     },
     "execution_count": 22,
     "metadata": {},
     "output_type": "execute_result"
    }
   ],
   "source": [
    "4294967296*2"
   ]
  },
  {
   "cell_type": "code",
   "execution_count": 23,
   "id": "d8f43ab2",
   "metadata": {},
   "outputs": [
    {
     "data": {
      "text/plain": [
       "65536.0"
      ]
     },
     "execution_count": 23,
     "metadata": {},
     "output_type": "execute_result"
    }
   ],
   "source": [
    "np.exp2(16)"
   ]
  },
  {
   "cell_type": "code",
   "execution_count": 24,
   "id": "9e7daa56",
   "metadata": {},
   "outputs": [
    {
     "data": {
      "text/plain": [
       "4294967296.0"
      ]
     },
     "execution_count": 24,
     "metadata": {},
     "output_type": "execute_result"
    }
   ],
   "source": [
    "np.exp2(32)"
   ]
  },
  {
   "cell_type": "code",
   "execution_count": 25,
   "id": "3bfeebdb",
   "metadata": {},
   "outputs": [
    {
     "name": "stdout",
     "output_type": "stream",
     "text": [
      "1.8446744073709552e+19\n"
     ]
    }
   ],
   "source": [
    "print(np.exp2(64))"
   ]
  },
  {
   "cell_type": "markdown",
   "id": "f52f66b2",
   "metadata": {},
   "source": [
    "## Numpy 표준 데이터 타입\n",
    "- ### bool_ : 바이트로 저장된 불리언(Boolean)으로 True 또는 False 값을 가짐\n",
    "- ### int_ : 기본 정수(Integer) 타입\n",
    "- ### intc : C언어에서 사용되는 int와 동일 (일반적으로 int32, int64)\n",
    "- ### intp : 인덱싱에서 사용되는 정수 (C 언어에서 ssize_t, 일반적으로 int32, int64)\n",
    "- ### int8 : 바이트(Byte) (-128 ~ 127)\n",
    "- ### int16 : 정수 (-32768 ~ 32767)\n",
    "- ### int32 : 정수 (-2147483648 ~ 2147483647)\n",
    "- ### int64 : 정수 (... ~ ...)\n",
    "- ### uint8 : 부호 없는 정수 (0 ~ 255)\n",
    "- ### uint16 : 부호 없는 정수 (0 ~ 65535)\n",
    "- ### uint32 : 부호 없는 정수 (0 ~ 4294967295)\n",
    "- ### uint64 : 부호 없는 정수 (0 ~ ...)\n",
    "- ### float16 : 반정밀 부동 소수점 (Half precision float), 부호 비트, 5비트 지수, 10비트 가수\n",
    "- ### float32 : 단정밀 부동 소수점 (Single precision float), 부호 비트, 8비트 지수, 32비트 가수\n",
    "- ### float64 : 배정밀 부동 소수점 (Half precision float), 부호 비트, 11비트 지수, 52비트 가수\n",
    "- ### float_ : float64를 줄여서 표현\n",
    "- ### complex64 : 복소수(Complex number), 두 개의 32비트 부동 소수점으로 표현\n",
    "- ### complex128 : 복수소, 두 개의 64비트 부동 소수점으로 표현"
   ]
  },
  {
   "cell_type": "code",
   "execution_count": 26,
   "id": "a3fef63e",
   "metadata": {},
   "outputs": [
    {
     "data": {
      "text/plain": [
       "array([0, 0, 0, 0, 0])"
      ]
     },
     "execution_count": 26,
     "metadata": {},
     "output_type": "execute_result"
    }
   ],
   "source": [
    "np.zeros(5, dtype=int)"
   ]
  },
  {
   "cell_type": "markdown",
   "id": "11a819b8",
   "metadata": {},
   "source": [
    "## 날짜/시간 배열 생성\n",
    "- ### Y     연\n",
    "- ### M     월\n",
    "- ### W     주\n",
    "- ### D     일\n",
    "- ### h     시\n",
    "- ### m     분\n",
    "- ### s     초\n",
    "- ### ms     밀리초\n",
    "- ### us     마이크로초\n",
    "- ### ps     나노초\n",
    "- ### fs     피코초\n",
    "- ### as     아토초\n"
   ]
  },
  {
   "cell_type": "code",
   "execution_count": 27,
   "id": "712964c2",
   "metadata": {},
   "outputs": [],
   "source": [
    "date = np.array('2021-01-01', dtype=np.datetime64)"
   ]
  },
  {
   "cell_type": "code",
   "execution_count": 28,
   "id": "c7d21469",
   "metadata": {},
   "outputs": [
    {
     "data": {
      "text/plain": [
       "array(['2021-01-01', '2021-01-02', '2021-01-03', '2021-01-04',\n",
       "       '2021-01-05', '2021-01-06', '2021-01-07', '2021-01-08',\n",
       "       '2021-01-09', '2021-01-10', '2021-01-11', '2021-01-12'],\n",
       "      dtype='datetime64[D]')"
      ]
     },
     "execution_count": 28,
     "metadata": {},
     "output_type": "execute_result"
    }
   ],
   "source": [
    "date + np.arange(12)"
   ]
  },
  {
   "cell_type": "code",
   "execution_count": 29,
   "id": "e9682fee",
   "metadata": {},
   "outputs": [
    {
     "data": {
      "text/plain": [
       "numpy.datetime64('2021-06-01T12:00')"
      ]
     },
     "execution_count": 29,
     "metadata": {},
     "output_type": "execute_result"
    }
   ],
   "source": [
    "datetime = np.datetime64('2021-06-01 12:00')\n",
    "datetime"
   ]
  },
  {
   "cell_type": "code",
   "execution_count": 30,
   "id": "d4a17f04",
   "metadata": {},
   "outputs": [
    {
     "data": {
      "text/plain": [
       "numpy.datetime64('2021-06-01T12:00:12.340000000')"
      ]
     },
     "execution_count": 30,
     "metadata": {},
     "output_type": "execute_result"
    }
   ],
   "source": [
    "datetime = np.datetime64('2021-06-01 12:00:12.34', 'ns')\n",
    "datetime"
   ]
  },
  {
   "cell_type": "markdown",
   "id": "f17078ae",
   "metadata": {},
   "source": [
    "## 배열 조회\n",
    "- ### 배열 속성 정보"
   ]
  },
  {
   "cell_type": "code",
   "execution_count": 31,
   "id": "3313e16d",
   "metadata": {},
   "outputs": [],
   "source": [
    "def array_info(array):\n",
    "    print(array)\n",
    "    print('ndim: ', array.ndim)\n",
    "    print('shape: ', array.shape)\n",
    "    print('dtype: ', array.dtype)\n",
    "    print('size: ', array.size)\n",
    "    print('itemsize: ', array.itemsize) # 4는 8 bytes 를 의미\n",
    "    print('nbytes: ', array.nbytes)     # 8 bytes * 4개 items를 의미\n",
    "    print('strides: ', array.strides)"
   ]
  },
  {
   "cell_type": "code",
   "execution_count": 32,
   "id": "e001f0f0",
   "metadata": {},
   "outputs": [
    {
     "name": "stdout",
     "output_type": "stream",
     "text": [
      "[10 20  3  4  5]\n",
      "ndim:  1\n",
      "shape:  (5,)\n",
      "dtype:  int32\n",
      "size:  5\n",
      "itemsize:  4\n",
      "nbytes:  20\n",
      "strides:  (4,)\n"
     ]
    }
   ],
   "source": [
    "array_info(a1)"
   ]
  },
  {
   "cell_type": "code",
   "execution_count": 33,
   "id": "b02b497d",
   "metadata": {},
   "outputs": [
    {
     "name": "stdout",
     "output_type": "stream",
     "text": [
      "[[1 2 3]\n",
      " [4 5 6]\n",
      " [7 8 9]]\n",
      "ndim:  2\n",
      "shape:  (3, 3)\n",
      "dtype:  int32\n",
      "size:  9\n",
      "itemsize:  4\n",
      "nbytes:  36\n",
      "strides:  (12, 4)\n"
     ]
    }
   ],
   "source": [
    "array_info(a2)"
   ]
  },
  {
   "cell_type": "code",
   "execution_count": 34,
   "id": "ec6d88c4",
   "metadata": {},
   "outputs": [
    {
     "name": "stdout",
     "output_type": "stream",
     "text": [
      "[[[0 1 2]\n",
      "  [0 1 2]\n",
      "  [0 1 2]]\n",
      "\n",
      " [[0 1 2]\n",
      "  [0 1 2]\n",
      "  [0 1 2]]\n",
      "\n",
      " [[0 1 2]\n",
      "  [0 1 2]\n",
      "  [0 1 2]]]\n",
      "ndim:  3\n",
      "shape:  (3, 3, 3)\n",
      "dtype:  int32\n",
      "size:  27\n",
      "itemsize:  4\n",
      "nbytes:  108\n",
      "strides:  (36, 12, 4)\n"
     ]
    }
   ],
   "source": [
    "array_info(a3)"
   ]
  },
  {
   "cell_type": "markdown",
   "id": "841847ee",
   "metadata": {},
   "source": [
    "## 인덱싱(Indexing)"
   ]
  },
  {
   "cell_type": "code",
   "execution_count": 35,
   "id": "cbbb0d2c",
   "metadata": {},
   "outputs": [
    {
     "name": "stdout",
     "output_type": "stream",
     "text": [
      "[10 20  3  4  5]\n",
      "10\n",
      "20\n",
      "5\n",
      "4\n"
     ]
    }
   ],
   "source": [
    "print(a1)\n",
    "print(a1[0])\n",
    "print(a1[1])\n",
    "print(a1[-1])\n",
    "print(a1[-2])"
   ]
  },
  {
   "cell_type": "code",
   "execution_count": 36,
   "id": "9bf7d8ca",
   "metadata": {},
   "outputs": [
    {
     "name": "stdout",
     "output_type": "stream",
     "text": [
      "[[1 2 3]\n",
      " [4 5 6]\n",
      " [7 8 9]]\n",
      "1\n",
      "5\n",
      "8\n",
      "8\n"
     ]
    }
   ],
   "source": [
    "print(a2)\n",
    "print(a2[0, 0])\n",
    "print(a2[1, 1])\n",
    "print(a2[-1, 1])\n",
    "print(a2[-1, 1])"
   ]
  },
  {
   "cell_type": "markdown",
   "id": "404d1cf0",
   "metadata": {},
   "source": [
    "## 슬라이싱(Slicing)\n",
    "- ### 슬라이싱 구문: a[start:stop:step]\n",
    "- ### 기본값: start=0, stop=ndim, step=1"
   ]
  },
  {
   "cell_type": "code",
   "execution_count": 37,
   "id": "7827dbfc",
   "metadata": {},
   "outputs": [
    {
     "name": "stdout",
     "output_type": "stream",
     "text": [
      "[10 20  3  4  5]\n",
      "[10 20  3  4]\n",
      "[10  3]\n"
     ]
    }
   ],
   "source": [
    "print(a1)\n",
    "print(a1[0:4])\n",
    "print(a1[0:4:2])"
   ]
  },
  {
   "cell_type": "markdown",
   "id": "bea79b9a",
   "metadata": {},
   "source": [
    "## 불리언 인덱싱(Boolean Indexing)\n",
    "- ### 배열 각 요소의 선택 여부를 불리언(Tru or False)로 지정\n",
    "- ### True 값인 인덱스의 값만 조회"
   ]
  },
  {
   "cell_type": "code",
   "execution_count": 38,
   "id": "1b5117c6",
   "metadata": {},
   "outputs": [
    {
     "name": "stdout",
     "output_type": "stream",
     "text": [
      "[10 20  3  4  5]\n",
      "[20  3  5]\n"
     ]
    }
   ],
   "source": [
    "print(a1)\n",
    "bi = [False, True, True, False, True]\n",
    "print(a1[bi])"
   ]
  },
  {
   "cell_type": "code",
   "execution_count": 39,
   "id": "bf738a30",
   "metadata": {},
   "outputs": [
    {
     "data": {
      "text/plain": [
       "array([[1, 2, 3],\n",
       "       [4, 5, 6],\n",
       "       [7, 8, 9]])"
      ]
     },
     "execution_count": 39,
     "metadata": {},
     "output_type": "execute_result"
    }
   ],
   "source": [
    "a2"
   ]
  },
  {
   "cell_type": "code",
   "execution_count": 40,
   "id": "c6ed6abd",
   "metadata": {},
   "outputs": [
    {
     "name": "stdout",
     "output_type": "stream",
     "text": [
      "[[ True False  True]\n",
      " [ True  True  True]\n",
      " [False False False]]\n",
      "[1 3 4 5 6]\n"
     ]
    }
   ],
   "source": [
    "bi = np.random.randint(0, 2, (3,3), dtype=bool)\n",
    "print(bi)\n",
    "print(a2[bi])"
   ]
  },
  {
   "cell_type": "markdown",
   "id": "2d11d5a4",
   "metadata": {},
   "source": [
    "## 팬시 인덱싱 (Fancy Indexing)"
   ]
  },
  {
   "cell_type": "code",
   "execution_count": 41,
   "id": "31f87210",
   "metadata": {},
   "outputs": [
    {
     "name": "stdout",
     "output_type": "stream",
     "text": [
      "[10 20  3  4  5]\n",
      "10 3\n",
      "[10  3]\n",
      "[[10 20]\n",
      " [ 3 10]]\n"
     ]
    }
   ],
   "source": [
    "print(a1)\n",
    "print(a1[0], a1[2])\n",
    "ind = [0, 2]\n",
    "print(a1[ind])\n",
    "ind = np.array([[0, 1], \n",
    "               [2, 0]])\n",
    "print(a1[ind])   #1차원 배열인데, 2차원 인덱싱을 주었더니 결과는 2차원으로 반환"
   ]
  },
  {
   "cell_type": "code",
   "execution_count": 42,
   "id": "46a6f985",
   "metadata": {},
   "outputs": [
    {
     "name": "stdout",
     "output_type": "stream",
     "text": [
      "[[1 2 3]\n",
      " [4 5 6]\n",
      " [7 8 9]]\n",
      "[2 9]\n"
     ]
    }
   ],
   "source": [
    "print(a2)\n",
    "row = np.array([0, 2])\n",
    "col = np.array([1, 2])\n",
    "print(a2[row, col]) # a2[0,2], a2[2,2]"
   ]
  },
  {
   "cell_type": "markdown",
   "id": "c3fa9493",
   "metadata": {},
   "source": [
    "## 배열 값 삽입/수정/삭제/복사\n",
    "- ### 배열 값 삽입\n",
    "   - insert() : 배열의 특정 위치에 값 삽입\n",
    "   - axis를 지정하지 않으면 1차원 배열로 변환\n",
    "   - 추가할 방향을 axis로 지정\n",
    "   - 원본 배열 변경없이 새로운 배열 반환"
   ]
  },
  {
   "cell_type": "code",
   "execution_count": 43,
   "id": "621e0940",
   "metadata": {},
   "outputs": [
    {
     "name": "stdout",
     "output_type": "stream",
     "text": [
      "[10 20  3  4  5]\n",
      "[ 4 10 20  3  4  5]\n",
      "[10 20  3  4  5]\n",
      "[10 20  5  3  4  5]\n"
     ]
    }
   ],
   "source": [
    "print(a1)\n",
    "b1 = np.insert(a1, 0, 4)\n",
    "print(b1)\n",
    "print(a1)\n",
    "c1 = np.insert(a1, 2, 5)\n",
    "print(c1)"
   ]
  },
  {
   "cell_type": "code",
   "execution_count": 44,
   "id": "502e1fa9",
   "metadata": {},
   "outputs": [
    {
     "name": "stdout",
     "output_type": "stream",
     "text": [
      "[[1 2 3]\n",
      " [4 5 6]\n",
      " [7 8 9]]\n",
      "[[ 1  2  3]\n",
      " [10 10 10]\n",
      " [ 4  5  6]\n",
      " [ 7  8  9]]\n",
      "[[ 1 10  2  3]\n",
      " [ 4 10  5  6]\n",
      " [ 7 10  8  9]]\n"
     ]
    }
   ],
   "source": [
    "print(a2)\n",
    "b2 = np.insert(a2, 1, 10, axis=0)\n",
    "print(b2)\n",
    "c2 = np.insert(a2, 1, 10, axis=1)\n",
    "print(c2)\n"
   ]
  },
  {
   "cell_type": "markdown",
   "id": "4ffd9761",
   "metadata": {},
   "source": [
    "- ### 배열 값 수정\n",
    "   - 배열의 인덱싱으로 접근하여 값 수정"
   ]
  },
  {
   "cell_type": "code",
   "execution_count": 45,
   "id": "c01b5c30",
   "metadata": {},
   "outputs": [
    {
     "name": "stdout",
     "output_type": "stream",
     "text": [
      "[10 20  3  4  5]\n",
      "[1 2 3 4 5]\n",
      "[9 2 3 4 5]\n",
      "[9 0 3 0 0]\n",
      "[9 4 3 4 4]\n"
     ]
    }
   ],
   "source": [
    "print(a1)\n",
    "a1[0] = 1\n",
    "a1[1] = 2\n",
    "a1[2] = 3\n",
    "print(a1)\n",
    "a1[:1] = 9\n",
    "print(a1)\n",
    "i = np.array([1, 3, 4])\n",
    "a1[i] = 0\n",
    "print(a1)\n",
    "a1[i] += 4\n",
    "print(a1)"
   ]
  },
  {
   "cell_type": "code",
   "execution_count": 46,
   "id": "0ff42ca9",
   "metadata": {},
   "outputs": [
    {
     "name": "stdout",
     "output_type": "stream",
     "text": [
      "[[1 2 3]\n",
      " [4 5 6]\n",
      " [7 8 9]]\n",
      "[[1 2 3]\n",
      " [4 2 6]\n",
      " [7 8 3]]\n",
      "[[1 1 1]\n",
      " [4 2 6]\n",
      " [7 8 3]]\n",
      "[[1 1 1]\n",
      " [4 2 9]\n",
      " [7 8 9]]\n",
      "[[1 0 1]\n",
      " [4 2 0]\n",
      " [7 8 9]]\n"
     ]
    }
   ],
   "source": [
    "print(a2)\n",
    "a2[0, 0] = 1\n",
    "a2[1, 1] = 2\n",
    "a2[2, 2] = 3\n",
    "print(a2)\n",
    "a2[0] = 1\n",
    "print(a2)\n",
    "a2[1:, 2] = 9\n",
    "print(a2)\n",
    "\n",
    "row = np.array([0, 1])\n",
    "col = np.array([1, 2])\n",
    "a2[row, col ] = 0\n",
    "print(a2)"
   ]
  },
  {
   "cell_type": "markdown",
   "id": "ab4ecd26",
   "metadata": {},
   "source": [
    "- ## 배열 값 삭제\n",
    "    - delete() : 배열의 특정 위치에 값 삭제\n",
    "    - axis를 지정하지 않으면 1차원 배열로 변환\n",
    "    - 삭제할 방향을 axis로 지정\n",
    "    - 원본 배열 변경없이 새로운 배열 반환"
   ]
  },
  {
   "cell_type": "code",
   "execution_count": 47,
   "id": "6a1684e1",
   "metadata": {},
   "outputs": [
    {
     "name": "stdout",
     "output_type": "stream",
     "text": [
      "[9 4 3 4 4]\n",
      "[9 3 4 4]\n",
      "[9 4 3 4 4]\n"
     ]
    }
   ],
   "source": [
    "print(a1)\n",
    "b1 = np.delete(a1, 1)\n",
    "print(b1)\n",
    "print(a1)"
   ]
  },
  {
   "cell_type": "code",
   "execution_count": 48,
   "id": "1cb6b82d",
   "metadata": {},
   "outputs": [
    {
     "name": "stdout",
     "output_type": "stream",
     "text": [
      "[[1 0 1]\n",
      " [4 2 0]\n",
      " [7 8 9]]\n",
      "[[1 0 1]\n",
      " [7 8 9]]\n",
      "[[1 1]\n",
      " [4 0]\n",
      " [7 9]]\n"
     ]
    }
   ],
   "source": [
    "print(a2)\n",
    "b2 = np.delete(a2, 1, axis=0)\n",
    "print(b2)\n",
    "c2 = np.delete(a2, 1, axis=1)\n",
    "print(c2)"
   ]
  },
  {
   "cell_type": "markdown",
   "id": "a0b83037",
   "metadata": {},
   "source": [
    "- ## 배열 복사\n",
    "     - 리스트 자료형과 달리 배열의 슬라이스는 복사본이 아님"
   ]
  },
  {
   "cell_type": "code",
   "execution_count": 49,
   "id": "009f3e0f",
   "metadata": {},
   "outputs": [
    {
     "name": "stdout",
     "output_type": "stream",
     "text": [
      "[[1 0 1]\n",
      " [4 2 0]\n",
      " [7 8 9]]\n",
      "[[1 0]\n",
      " [4 2]]\n",
      "[[1 0]\n",
      " [4 2]]\n",
      "[[1 0]\n",
      " [4 0]]\n",
      "[[1 0 1]\n",
      " [4 0 0]\n",
      " [7 8 9]]\n"
     ]
    }
   ],
   "source": [
    "print(a2)\n",
    "print(a2[:2, :2])\n",
    "a2_sub = a2[:2, :2]\n",
    "print(a2_sub)\n",
    "a2_sub[:, 1] = 0\n",
    "print(a2_sub)\n",
    "print(a2)"
   ]
  },
  {
   "cell_type": "markdown",
   "id": "1475b1be",
   "metadata": {},
   "source": [
    "- ### copy(): 배열이나 하위 배열 내의 값을 <font color=red>명시적으로 복사</font>"
   ]
  },
  {
   "cell_type": "code",
   "execution_count": 50,
   "id": "0b8441c3",
   "metadata": {},
   "outputs": [
    {
     "name": "stdout",
     "output_type": "stream",
     "text": [
      "[[1 0 1]\n",
      " [4 0 0]\n",
      " [7 8 9]]\n",
      "[[1 0]\n",
      " [4 0]]\n",
      "[[1 1]\n",
      " [4 1]]\n",
      "[[1 0 1]\n",
      " [4 0 0]\n",
      " [7 8 9]]\n"
     ]
    }
   ],
   "source": [
    "print(a2)\n",
    "a2_sub_copy = a2[:2, :2].copy()\n",
    "print(a2_sub_copy)\n",
    "a2_sub_copy[:, 1] = 1\n",
    "print(a2_sub_copy)\n",
    "print(a2)"
   ]
  },
  {
   "cell_type": "markdown",
   "id": "8b010e76",
   "metadata": {},
   "source": [
    "## 배열 변환\n",
    "- ### 배열 전치 및 축 변경"
   ]
  },
  {
   "cell_type": "code",
   "execution_count": 51,
   "id": "56a4c7a2",
   "metadata": {},
   "outputs": [
    {
     "name": "stdout",
     "output_type": "stream",
     "text": [
      "[[1 0 1]\n",
      " [4 0 0]\n",
      " [7 8 9]]\n",
      "[[1 4 7]\n",
      " [0 0 8]\n",
      " [1 0 9]]\n",
      "\n",
      "[[1 4 7]\n",
      " [0 0 8]\n",
      " [1 0 9]]\n"
     ]
    }
   ],
   "source": [
    "print(a2)\n",
    "print(a2.T)\n",
    "print()\n",
    "print(a2.swapaxes(1, 0))"
   ]
  },
  {
   "cell_type": "code",
   "execution_count": 52,
   "id": "dafa1acd",
   "metadata": {},
   "outputs": [
    {
     "name": "stdout",
     "output_type": "stream",
     "text": [
      "[[[0 1 2]\n",
      "  [0 1 2]\n",
      "  [0 1 2]]\n",
      "\n",
      " [[0 1 2]\n",
      "  [0 1 2]\n",
      "  [0 1 2]]\n",
      "\n",
      " [[0 1 2]\n",
      "  [0 1 2]\n",
      "  [0 1 2]]]\n",
      "[[[0 1 2]\n",
      "  [0 1 2]\n",
      "  [0 1 2]]\n",
      "\n",
      " [[0 1 2]\n",
      "  [0 1 2]\n",
      "  [0 1 2]]\n",
      "\n",
      " [[0 1 2]\n",
      "  [0 1 2]\n",
      "  [0 1 2]]]\n",
      "[[[0 0 0]\n",
      "  [1 1 1]\n",
      "  [2 2 2]]\n",
      "\n",
      " [[0 0 0]\n",
      "  [1 1 1]\n",
      "  [2 2 2]]\n",
      "\n",
      " [[0 0 0]\n",
      "  [1 1 1]\n",
      "  [2 2 2]]]\n"
     ]
    }
   ],
   "source": [
    "print(a3)\n",
    "print(a3.swapaxes(0, 1))\n",
    "print(a3.swapaxes(1, 2))"
   ]
  },
  {
   "cell_type": "markdown",
   "id": "a012f7a2",
   "metadata": {},
   "source": [
    "## 배열 재구조화\n",
    "- ### reshape(): 배열의 형상을 변경"
   ]
  },
  {
   "cell_type": "code",
   "execution_count": 53,
   "id": "ec742018",
   "metadata": {},
   "outputs": [
    {
     "name": "stdout",
     "output_type": "stream",
     "text": [
      "[1 2 3 4 5 6 7 8 9]\n",
      "[[1 2 3]\n",
      " [4 5 6]\n",
      " [7 8 9]]\n"
     ]
    }
   ],
   "source": [
    "n1 = np.arange(1, 10)\n",
    "print(n1)\n",
    "print(n1.reshape(3,3))"
   ]
  },
  {
   "cell_type": "markdown",
   "id": "e7839691",
   "metadata": {},
   "source": [
    "- ### newaxis() : 새로운 "
   ]
  },
  {
   "cell_type": "code",
   "execution_count": 54,
   "id": "60938072",
   "metadata": {},
   "outputs": [
    {
     "name": "stdout",
     "output_type": "stream",
     "text": [
      "[1 2 3 4 5 6 7 8 9]\n",
      "[[1 2 3 4 5]]\n",
      "[[1]\n",
      " [2]\n",
      " [3]\n",
      " [4]\n",
      " [5]]\n"
     ]
    }
   ],
   "source": [
    "print(n1)\n",
    "print(n1[np.newaxis, :5])\n",
    "print(n1[:5, np.newaxis])"
   ]
  },
  {
   "cell_type": "markdown",
   "id": "fee8b16a",
   "metadata": {},
   "source": [
    "## 배열 크기 변경\n",
    "- ### 배열 모양만 변경"
   ]
  },
  {
   "cell_type": "code",
   "execution_count": 55,
   "id": "a27ca6dd",
   "metadata": {},
   "outputs": [
    {
     "name": "stdout",
     "output_type": "stream",
     "text": [
      "[[1 4 3 8 3]\n",
      " [0 9 5 8 8]]\n",
      "[[1 4]\n",
      " [3 8]\n",
      " [3 0]\n",
      " [9 5]\n",
      " [8 8]]\n"
     ]
    }
   ],
   "source": [
    "n2 = np.random.randint(0, 10, (2,5))\n",
    "print(n2)\n",
    "n2.resize((5,2))\n",
    "print(n2)"
   ]
  },
  {
   "cell_type": "markdown",
   "id": "a7011e64",
   "metadata": {},
   "source": [
    "- ### 배열 크기 증가\n",
    "- ### 남은 공간은 0으로 채워짐"
   ]
  },
  {
   "cell_type": "code",
   "execution_count": 56,
   "id": "7810ae75",
   "metadata": {},
   "outputs": [],
   "source": [
    "n2.resize((5,5))"
   ]
  },
  {
   "cell_type": "code",
   "execution_count": 57,
   "id": "e0545603",
   "metadata": {},
   "outputs": [
    {
     "name": "stdout",
     "output_type": "stream",
     "text": [
      "[[1 4 3 8 3]\n",
      " [0 9 5 8 8]\n",
      " [0 0 0 0 0]\n",
      " [0 0 0 0 0]\n",
      " [0 0 0 0 0]]\n"
     ]
    }
   ],
   "source": [
    "print(n2)"
   ]
  },
  {
   "cell_type": "markdown",
   "id": "978b74e3",
   "metadata": {},
   "source": [
    "- ### 배열 크기 감소\n",
    "- ### 남은 공간은 0으로 채워짐"
   ]
  },
  {
   "cell_type": "code",
   "execution_count": 58,
   "id": "41f8fdf2",
   "metadata": {},
   "outputs": [
    {
     "name": "stdout",
     "output_type": "stream",
     "text": [
      "[[1 4 3]\n",
      " [8 3 0]\n",
      " [9 5 8]]\n"
     ]
    }
   ],
   "source": [
    "n2.resize((3,3))\n",
    "print(n2)"
   ]
  },
  {
   "cell_type": "markdown",
   "id": "ffb90bd0",
   "metadata": {},
   "source": [
    "## 배열 추가\n",
    "- ### append() : 배열의 끝에 추가"
   ]
  },
  {
   "cell_type": "code",
   "execution_count": 59,
   "id": "80422923",
   "metadata": {},
   "outputs": [
    {
     "name": "stdout",
     "output_type": "stream",
     "text": [
      "[[1 2 3]\n",
      " [4 5 6]\n",
      " [7 8 9]]\n",
      "[[10 11 12]\n",
      " [13 14 15]\n",
      " [16 17 18]]\n"
     ]
    }
   ],
   "source": [
    "a2 = np.arange(1, 10).reshape(3,3)\n",
    "print(a2)\n",
    "b2 = np.arange(10, 19).reshape(3,3)\n",
    "print(b2)\n"
   ]
  },
  {
   "cell_type": "markdown",
   "id": "4ad44d18",
   "metadata": {},
   "source": [
    "- ### axis 지정이 없으면 1차원 배열 형태로 변형되어 결합"
   ]
  },
  {
   "cell_type": "code",
   "execution_count": 60,
   "id": "adf98314",
   "metadata": {},
   "outputs": [
    {
     "name": "stdout",
     "output_type": "stream",
     "text": [
      "[ 1  2  3  4  5  6  7  8  9 10 11 12 13 14 15 16 17 18]\n"
     ]
    }
   ],
   "source": [
    "c2 = np.append(a2, b2)\n",
    "print(c2)"
   ]
  },
  {
   "cell_type": "markdown",
   "id": "c6e5ac63",
   "metadata": {},
   "source": [
    "- ### axis를 0으로 지정\n",
    "- ### shape[0] 을 제외한 나머지 shape은 같아야 함"
   ]
  },
  {
   "cell_type": "code",
   "execution_count": 61,
   "id": "f660cf71",
   "metadata": {},
   "outputs": [
    {
     "name": "stdout",
     "output_type": "stream",
     "text": [
      "[[ 1  2  3]\n",
      " [ 4  5  6]\n",
      " [ 7  8  9]\n",
      " [10 11 12]\n",
      " [13 14 15]\n",
      " [16 17 18]]\n"
     ]
    }
   ],
   "source": [
    "c2 = np.append(a2, b2, axis=0)\n",
    "print(c2)"
   ]
  },
  {
   "cell_type": "markdown",
   "id": "a1ff8321",
   "metadata": {},
   "source": [
    "- ### asis를 1로 지정\n",
    "- ### shpe[1]을 제외한 나머지 shape은 같아야 함"
   ]
  },
  {
   "cell_type": "code",
   "execution_count": 62,
   "id": "76efd511",
   "metadata": {},
   "outputs": [
    {
     "name": "stdout",
     "output_type": "stream",
     "text": [
      "[[ 1  2  3 10 11 12]\n",
      " [ 4  5  6 13 14 15]\n",
      " [ 7  8  9 16 17 18]]\n"
     ]
    }
   ],
   "source": [
    "c2 = np.append(a2, b2, axis=1)\n",
    "print(c2)"
   ]
  },
  {
   "cell_type": "markdown",
   "id": "2cae915f",
   "metadata": {},
   "source": [
    "## 배열 연결\n",
    "- ### concatenate() : 튜플이나 배열의 리스트를 인수로 사용해 배열 연결"
   ]
  },
  {
   "cell_type": "code",
   "execution_count": 63,
   "id": "5748d9d1",
   "metadata": {},
   "outputs": [
    {
     "data": {
      "text/plain": [
       "array([1, 3, 5, 2, 4, 6])"
      ]
     },
     "execution_count": 63,
     "metadata": {},
     "output_type": "execute_result"
    }
   ],
   "source": [
    "a1 = np.array([1, 3, 5])\n",
    "b1 = np.array([2, 4, 6])\n",
    "np.concatenate([a1, b1])"
   ]
  },
  {
   "cell_type": "code",
   "execution_count": 64,
   "id": "19f3fbcd",
   "metadata": {},
   "outputs": [
    {
     "data": {
      "text/plain": [
       "array([1, 3, 5, 2, 4, 6, 7, 8, 9])"
      ]
     },
     "execution_count": 64,
     "metadata": {},
     "output_type": "execute_result"
    }
   ],
   "source": [
    "c1 = np.array([7, 8, 9])\n",
    "np.concatenate([a1, b1, c1])"
   ]
  },
  {
   "cell_type": "code",
   "execution_count": 65,
   "id": "60769bee",
   "metadata": {},
   "outputs": [
    {
     "data": {
      "text/plain": [
       "array([[1, 2, 3],\n",
       "       [2, 4, 6],\n",
       "       [1, 2, 3],\n",
       "       [2, 4, 6]])"
      ]
     },
     "execution_count": 65,
     "metadata": {},
     "output_type": "execute_result"
    }
   ],
   "source": [
    "a2 = np.array([[1,2, 3], \n",
    "               [2, 4, 6]])\n",
    "np.concatenate([a2, a2])"
   ]
  },
  {
   "cell_type": "code",
   "execution_count": 66,
   "id": "a239fc62",
   "metadata": {},
   "outputs": [
    {
     "data": {
      "text/plain": [
       "array([[1, 2, 3, 1, 2, 3],\n",
       "       [2, 4, 6, 2, 4, 6]])"
      ]
     },
     "execution_count": 66,
     "metadata": {},
     "output_type": "execute_result"
    }
   ],
   "source": [
    "np.concatenate([a2, a2], axis=1)"
   ]
  },
  {
   "cell_type": "markdown",
   "id": "d31be626",
   "metadata": {},
   "source": [
    "- ### vstack() : 수직 스택(vertical stack), 1차원으로 연결"
   ]
  },
  {
   "cell_type": "code",
   "execution_count": 67,
   "id": "e0a0eb8a",
   "metadata": {},
   "outputs": [
    {
     "data": {
      "text/plain": [
       "array([[1, 2, 3],\n",
       "       [2, 4, 6],\n",
       "       [1, 2, 3],\n",
       "       [2, 4, 6]])"
      ]
     },
     "execution_count": 67,
     "metadata": {},
     "output_type": "execute_result"
    }
   ],
   "source": [
    "np.vstack([a2, a2])"
   ]
  },
  {
   "cell_type": "markdown",
   "id": "2438207a",
   "metadata": {},
   "source": [
    "- ### hstack() : 수평 스택(horizontal stack), 2차원으로 연결"
   ]
  },
  {
   "cell_type": "code",
   "execution_count": 68,
   "id": "3540b658",
   "metadata": {},
   "outputs": [
    {
     "data": {
      "text/plain": [
       "array([[1, 2, 3, 1, 2, 3],\n",
       "       [2, 4, 6, 2, 4, 6]])"
      ]
     },
     "execution_count": 68,
     "metadata": {},
     "output_type": "execute_result"
    }
   ],
   "source": [
    "np.hstack([a2, a2])"
   ]
  },
  {
   "cell_type": "markdown",
   "id": "7558a437",
   "metadata": {},
   "source": [
    "- ### dstack() : 깊이 스택(depth stack), 3차원으로 연결"
   ]
  },
  {
   "cell_type": "code",
   "execution_count": 69,
   "id": "a5443ef4",
   "metadata": {},
   "outputs": [
    {
     "data": {
      "text/plain": [
       "array([[[1, 1],\n",
       "        [2, 2],\n",
       "        [3, 3]],\n",
       "\n",
       "       [[2, 2],\n",
       "        [4, 4],\n",
       "        [6, 6]]])"
      ]
     },
     "execution_count": 69,
     "metadata": {},
     "output_type": "execute_result"
    }
   ],
   "source": [
    "np.dstack([a2, a2])"
   ]
  },
  {
   "cell_type": "markdown",
   "id": "efc96fe7",
   "metadata": {},
   "source": [
    "- ### stack() : 새로운 차원으로 연결"
   ]
  },
  {
   "cell_type": "code",
   "execution_count": 70,
   "id": "fdd791dc",
   "metadata": {},
   "outputs": [
    {
     "data": {
      "text/plain": [
       "array([[[1, 2, 3],\n",
       "        [2, 4, 6]],\n",
       "\n",
       "       [[1, 2, 3],\n",
       "        [2, 4, 6]]])"
      ]
     },
     "execution_count": 70,
     "metadata": {},
     "output_type": "execute_result"
    }
   ],
   "source": [
    "np.stack([a2, a2])"
   ]
  },
  {
   "cell_type": "markdown",
   "id": "6bbd843e",
   "metadata": {},
   "source": [
    "## 배열 분할\n",
    "- ### split() :. 배열 분할"
   ]
  },
  {
   "cell_type": "code",
   "execution_count": 71,
   "id": "9ed08fbd",
   "metadata": {},
   "outputs": [
    {
     "name": "stdout",
     "output_type": "stream",
     "text": [
      "[0 1 2 3 4 5 6 7 8 9]\n",
      "[0 1 2 3 4] [5 6 7 8 9]\n",
      "[0 1] [2 3] [4 5] [6 7] [8 9]\n"
     ]
    }
   ],
   "source": [
    "a1 = np.arange(0, 10)\n",
    "print(a1)\n",
    "\n",
    "b1, c1 = np.split(a1, [5])\n",
    "print(b1, c1)\n",
    "\n",
    "b1, c1, d1, e1, f1 = np.split(a1, [2, 4, 6, 8])\n",
    "print(b1, c1, d1, e1, f1)"
   ]
  },
  {
   "cell_type": "markdown",
   "id": "2613638f",
   "metadata": {},
   "source": [
    "- ### vsplit() : 수직 분할, 1차원으로 분할"
   ]
  },
  {
   "cell_type": "code",
   "execution_count": 72,
   "id": "03c4632e",
   "metadata": {},
   "outputs": [
    {
     "name": "stdout",
     "output_type": "stream",
     "text": [
      "[[1 2 3]\n",
      " [4 5 6]\n",
      " [7 8 9]]\n",
      "[[1 2 3]\n",
      " [4 5 6]]\n",
      "[[7 8 9]]\n"
     ]
    }
   ],
   "source": [
    "a2 = np.arange(1, 10).reshape(3, 3)\n",
    "print(a2)\n",
    "b2, c2 = np.vsplit(a2, [2])\n",
    "print(b2)\n",
    "print(c2)"
   ]
  },
  {
   "cell_type": "markdown",
   "id": "2d91b5bd",
   "metadata": {},
   "source": [
    "- ### hsplit() : 수평 분할, 2차원으로 분할"
   ]
  },
  {
   "cell_type": "code",
   "execution_count": 73,
   "id": "d2333db6",
   "metadata": {},
   "outputs": [
    {
     "name": "stdout",
     "output_type": "stream",
     "text": [
      "[[1 2 3]\n",
      " [4 5 6]\n",
      " [7 8 9]]\n",
      "[[1 2]\n",
      " [4 5]\n",
      " [7 8]]\n",
      "[[3]\n",
      " [6]\n",
      " [9]]\n"
     ]
    }
   ],
   "source": [
    "a2 = np.arange(1, 10).reshape(3, 3)\n",
    "print(a2)\n",
    "b2, c2 = np.hsplit(a2, [2])\n",
    "print(b2)\n",
    "print(c2)"
   ]
  },
  {
   "cell_type": "markdown",
   "id": "a53c6e2b",
   "metadata": {},
   "source": [
    "- ### dsplit() : 깊이 분할, 3차원으로 분할"
   ]
  },
  {
   "cell_type": "code",
   "execution_count": 74,
   "id": "3a861637",
   "metadata": {},
   "outputs": [
    {
     "name": "stdout",
     "output_type": "stream",
     "text": [
      "[[[ 1  2  3]\n",
      "  [ 4  5  6]\n",
      "  [ 7  8  9]]\n",
      "\n",
      " [[10 11 12]\n",
      "  [13 14 15]\n",
      "  [16 17 18]]\n",
      "\n",
      " [[19 20 21]\n",
      "  [22 23 24]\n",
      "  [25 26 27]]]\n",
      "[[[ 1  2]\n",
      "  [ 4  5]\n",
      "  [ 7  8]]\n",
      "\n",
      " [[10 11]\n",
      "  [13 14]\n",
      "  [16 17]]\n",
      "\n",
      " [[19 20]\n",
      "  [22 23]\n",
      "  [25 26]]]\n",
      "[[[ 3]\n",
      "  [ 6]\n",
      "  [ 9]]\n",
      "\n",
      " [[12]\n",
      "  [15]\n",
      "  [18]]\n",
      "\n",
      " [[21]\n",
      "  [24]\n",
      "  [27]]]\n"
     ]
    }
   ],
   "source": [
    "a3 = np.arange(1, 28).reshape(3, 3, 3)\n",
    "print(a3)\n",
    "b3, c3 = np.dsplit(a3, [2])\n",
    "print(b3)\n",
    "print(c3)"
   ]
  },
  {
   "cell_type": "markdown",
   "id": "df794109",
   "metadata": {},
   "source": [
    "## 배열 연산\n",
    "- ### Numpy의 배열 연산은 벡터화(vectorized) 연산을 사용\n",
    "- ### 일반적으로 Numpy의 범용 함수(universal functions)를 통해 구현\n",
    "- ### 배열 요소에 대한 반복적인 계산을 효율적으로 수행"
   ]
  },
  {
   "cell_type": "markdown",
   "id": "e38dd1b6",
   "metadata": {},
   "source": [
    "### 브로드캐스팅(Broadcasting)"
   ]
  },
  {
   "cell_type": "code",
   "execution_count": 75,
   "id": "ab7fd7a0",
   "metadata": {},
   "outputs": [
    {
     "name": "stdout",
     "output_type": "stream",
     "text": [
      "[1 2 3]\n",
      "[[4]\n",
      " [5]]\n",
      "[[5 6 7]\n",
      " [6 7 8]]\n"
     ]
    }
   ],
   "source": [
    "a1 = np.array([1, 2, 3])\n",
    "b1 = np.array([[4], [5]])\n",
    "print(a1)\n",
    "print(b1)\n",
    "print(a1 + b1)"
   ]
  },
  {
   "cell_type": "markdown",
   "id": "9d0c0f23",
   "metadata": {},
   "source": [
    "## 산술 연산(Arithmetic Operators)\n",
    "- '+'     np.add     덧셈\n",
    "- '-'     np.substract 뺄셈\n",
    "- '-'     np.negative  단향 음수\n",
    "- '*'     np.multiply  곱셈\n",
    "- '/'     np.divide    나눗셈\n",
    "- '//'    np.floor_divide 나눗셈 내림\n",
    "- '**'   np.power     지수연산\n",
    "- '%'     np.mod     나머지 연산"
   ]
  },
  {
   "cell_type": "code",
   "execution_count": 76,
   "id": "b6af4f13",
   "metadata": {},
   "outputs": [
    {
     "name": "stdout",
     "output_type": "stream",
     "text": [
      "[1 2 3 4 5 6 7 8 9]\n",
      "[ 2  3  4  5  6  7  8  9 10]\n",
      "[11 12 13 14 15 16 17 18 19]\n",
      "[-1  0  1  2  3  4  5  6  7]\n",
      "[-9 -8 -7 -6 -5 -4 -3 -2 -1]\n",
      "[11 12 13 14 15 16 17 18 19]\n",
      "[-1 -2 -3 -4 -5 -6 -7 -8 -9]\n",
      "[-1 -2 -3 -4 -5 -6 -7 -8 -9]\n",
      "[ 2  4  6  8 10 12 14 16 18]\n",
      "[ 2  4  6  8 10 12 14 16 18]\n",
      "[0.5 1.  1.5 2.  2.5 3.  3.5 4.  4.5]\n",
      "[0.5 1.  1.5 2.  2.5 3.  3.5 4.  4.5]\n",
      "[0 1 1 2 2 3 3 4 4]\n",
      "[0 1 1 2 2 3 3 4 4]\n",
      "[ 1  4  9 16 25 36 49 64 81]\n",
      "[ 1  4  9 16 25 36 49 64 81]\n",
      "[1 0 1 0 1 0 1 0 1]\n",
      "[1 0 1 0 1 0 1 0 1]\n"
     ]
    }
   ],
   "source": [
    "a1 = np.arange(1, 10)\n",
    "print(a1)\n",
    "print(a1 +1)\n",
    "print(np.add(a1, 10))\n",
    "print(np.add(a1, -2))\n",
    "\n",
    "print(np.subtract(a1, 10))\n",
    "print(np.subtract(a1, -10))\n",
    "print(-a1)\n",
    "print(np.negative(a1))\n",
    "print(a1*2)\n",
    "print(np.multiply(a1, 2))\n",
    "print(a1/2)\n",
    "print(np.divide(a1, 2))\n",
    "print(a1//2)\n",
    "print(np.floor_divide(a1, 2))\n",
    "\n",
    "print(a1**2)\n",
    "print(np.power(a1, 2))\n",
    "\n",
    "print(a1%2)\n",
    "print(np.mod(a1, 2))"
   ]
  },
  {
   "cell_type": "markdown",
   "id": "1f1eb843",
   "metadata": {},
   "source": [
    "## 절대값 함수 (Absolute Function)\n",
    "- ### absolute(), abs(): 내장된 절대값 함수"
   ]
  },
  {
   "cell_type": "code",
   "execution_count": 77,
   "id": "f93627e9",
   "metadata": {},
   "outputs": [
    {
     "name": "stdout",
     "output_type": "stream",
     "text": [
      "[3 7 4 5 9]\n",
      "[3 7 4 5 9]\n",
      "[3 7 4 5 9]\n"
     ]
    }
   ],
   "source": [
    "a1 = np.random.randint(-10, 10, size=5)\n",
    "print(a1)\n",
    "print(np.absolute(a1))\n",
    "print(np.abs(a1))"
   ]
  },
  {
   "cell_type": "markdown",
   "id": "b74b7898",
   "metadata": {},
   "source": [
    "## 제곱/제곱근 함수\n",
    "- ### squar(), sqrt() : 제곱, 제곱근 함수"
   ]
  },
  {
   "cell_type": "code",
   "execution_count": 78,
   "id": "8323352a",
   "metadata": {},
   "outputs": [
    {
     "name": "stdout",
     "output_type": "stream",
     "text": [
      "[14  4  7  4 10]\n",
      "[196  16  49  16 100]\n",
      "[3.74165739 2.         2.64575131 2.         3.16227766]\n"
     ]
    }
   ],
   "source": [
    "a1 = np.random.randint(0, 20, size=5)\n",
    "print(a1)\n",
    "print(np.square(a1))\n",
    "print(np.sqrt(a1))"
   ]
  },
  {
   "cell_type": "markdown",
   "id": "9e9f87c5",
   "metadata": {},
   "source": [
    "- ### 지수와 로그함수 (Exponential and Log Function)"
   ]
  },
  {
   "cell_type": "code",
   "execution_count": 79,
   "id": "b2c5f538",
   "metadata": {},
   "outputs": [
    {
     "name": "stdout",
     "output_type": "stream",
     "text": [
      "[8 0 0 0 1]\n",
      "[2.98095799e+03 1.00000000e+00 1.00000000e+00 1.00000000e+00\n",
      " 2.71828183e+00]\n",
      "[256.   1.   1.   1.   2.]\n",
      "[64  0  0  0  1]\n"
     ]
    }
   ],
   "source": [
    "a1 = np.random.randint(0, 10, size= 5)\n",
    "print(a1)\n",
    "print(np.exp(a1))\n",
    "print(np.exp2(a1))\n",
    "print(np.power(a1, 2))"
   ]
  },
  {
   "cell_type": "code",
   "execution_count": 80,
   "id": "4ef40ff7",
   "metadata": {},
   "outputs": [
    {
     "name": "stdout",
     "output_type": "stream",
     "text": [
      "[8 0 0 0 1]\n",
      "[2.07944154       -inf       -inf       -inf 0.        ]\n",
      "[  3. -inf -inf -inf   0.]\n",
      "[0.90308999       -inf       -inf       -inf 0.        ]\n"
     ]
    },
    {
     "name": "stderr",
     "output_type": "stream",
     "text": [
      "C:\\Users\\Chulho Jung\\AppData\\Local\\Temp\\ipykernel_11668\\1600939233.py:2: RuntimeWarning: divide by zero encountered in log\n",
      "  print(np.log(a1))\n",
      "C:\\Users\\Chulho Jung\\AppData\\Local\\Temp\\ipykernel_11668\\1600939233.py:3: RuntimeWarning: divide by zero encountered in log2\n",
      "  print(np.log2(a1))\n",
      "C:\\Users\\Chulho Jung\\AppData\\Local\\Temp\\ipykernel_11668\\1600939233.py:4: RuntimeWarning: divide by zero encountered in log10\n",
      "  print(np.log10(a1))\n"
     ]
    }
   ],
   "source": [
    "print(a1)\n",
    "print(np.log(a1))\n",
    "print(np.log2(a1))\n",
    "print(np.log10(a1))"
   ]
  },
  {
   "cell_type": "markdown",
   "id": "f7eeb070",
   "metadata": {},
   "source": [
    "## 삼각 함수(Trigonometrical Function)\n",
    "- ### np.sin(array)  요소별 사인\n",
    "- ### np.cos(array)  요소별 코사인\n",
    "- ### np.tan(array)  요소별 탄젠트\n",
    "- ### np.arcsin(array)  요소별 아크 사인\n",
    "- ### np.arccos(array)  요소별 아크 코사인\n",
    "- ### np.arctan(array)  요소별 아크 탄젠트\n",
    "- ### np.arctan2(array1, array2)  요소별 아크 탄젠트 array1 / array2\n",
    "- ### np.sinh(array)  요소별 하이퍼블럭 사인\n",
    "- ### np.cosh(array)  요소별 하이퍼블럭 코사인\n",
    "- ### np.tanh(array)  요소별 하이퍼블럭 탄젠트\n",
    "- ### np.arcsinh(array)  요소별 하이퍼블럭 아크 사인\n",
    "- ### np.arccosh(array)  요소별 하이퍼블럭 아크 코사인\n",
    "- ### np.arctanh(array)  요소별 하이퍼블럭 아크 탄젠트\n",
    "\n",
    "- np.deg2rad(array)  요소별 각도에서 라디안 변환\n",
    "- np.rad2deg(array)  요소별 라디안에서 각도 변환\n",
    "- np.hypot(array1, array2)  요소별 유클리드 거리 계산"
   ]
  },
  {
   "cell_type": "code",
   "execution_count": 81,
   "id": "79382ff2",
   "metadata": {},
   "outputs": [
    {
     "name": "stdout",
     "output_type": "stream",
     "text": [
      "[0.         1.57079633 3.14159265]\n",
      "[0.0000000e+00 1.0000000e+00 1.2246468e-16]\n",
      "[ 1.000000e+00  6.123234e-17 -1.000000e+00]\n",
      "[ 0.00000000e+00  1.63312394e+16 -1.22464680e-16]\n"
     ]
    }
   ],
   "source": [
    "t = np.linspace(0, np.pi, 3)\n",
    "print(t)\n",
    "print(np.sin(t))\n",
    "print(np.cos(t))\n",
    "print(np.tan(t))"
   ]
  },
  {
   "cell_type": "markdown",
   "id": "b85ff2b8",
   "metadata": {},
   "source": [
    "## 집계 함수(Aggregate Function)\n",
    "- ### np.sum np.nansum 요소의 합 계산\n",
    "- ### np.cumsum np.nancumsum 요소별 누적합\n",
    "- ### np.diff N/A 요소의 차분\n",
    "- ### np.prod np.nanprod 요소의 곱 계산\n",
    "- ### np.cumprod np.nancumprod 요소의 누적 곱\n",
    "- ### np.dot N/A 점 곱 (dot product)\n",
    "- ### np.matmul N/A 행렬 곱 \n",
    "- ### np.tensordot N/A 텐서곱 (tensor product)\n",
    "- ### np.cross N/A 벡터곱(cross product)\n",
    "- ### np.inner N/A 내적 (inner product)\n",
    "- ### np.outer N/A 외적 (outer product)\n",
    "- ### np.mean np.nanmean 요소의 평균\n",
    "- ### np.std np.nanstd 표준 편차\n",
    "- ### np.var np.nanvar 분산\n",
    "- ### np.min np.nanmin 최소값\n",
    "- ### np.max np.nanmax 최대값\n",
    "- ### np.argmin np.nanargmin 최소값 인덱스\n",
    "- ### np.argmax np.nanargmax 최대값 인덱스\n",
    "- ### np.median np.nanmedian 중앙값\n",
    "- ### np.percentile np.nanpercentile 요소의 순위 기반 백분위 수 계산\n",
    "- ### np.any N/A 요소 중 참이 있는지 평가\n",
    "- ### np.all N/A 모든 요소가 참인지 평가"
   ]
  },
  {
   "cell_type": "markdown",
   "id": "c9fa08cb",
   "metadata": {},
   "source": [
    "- sum() : 합 계산"
   ]
  },
  {
   "cell_type": "code",
   "execution_count": 82,
   "id": "660d929c",
   "metadata": {},
   "outputs": [
    {
     "name": "stdout",
     "output_type": "stream",
     "text": [
      "[[9 4 5]\n",
      " [9 4 7]\n",
      " [6 8 9]]\n",
      "61 61\n",
      "[24 16 21] [24 16 21]\n",
      "[18 20 23] [18 20 23]\n"
     ]
    }
   ],
   "source": [
    "a2 = np.random.randint(1, 10, size=(3,3))\n",
    "print(a2)\n",
    "print(a2.sum(), np.sum(a2))\n",
    "print(a2.sum(axis=0), np.sum(a2, axis=0))\n",
    "print(a2.sum(axis=1), np.sum(a2, axis=1))"
   ]
  },
  {
   "cell_type": "markdown",
   "id": "cd2e7e66",
   "metadata": {},
   "source": [
    "- cumsum() : 누적합 계산"
   ]
  },
  {
   "cell_type": "code",
   "execution_count": 83,
   "id": "7515e37c",
   "metadata": {},
   "outputs": [
    {
     "name": "stdout",
     "output_type": "stream",
     "text": [
      "[[9 4 5]\n",
      " [9 4 7]\n",
      " [6 8 9]]\n",
      "[ 9 13 18 27 31 38 44 52 61] [ 9 13 18 27 31 38 44 52 61]\n",
      "[[ 9  4  5]\n",
      " [18  8 12]\n",
      " [24 16 21]] [[ 9  4  5]\n",
      " [18  8 12]\n",
      " [24 16 21]]\n",
      "[[ 9 13 18]\n",
      " [ 9 13 20]\n",
      " [ 6 14 23]] [[ 9 13 18]\n",
      " [ 9 13 20]\n",
      " [ 6 14 23]]\n"
     ]
    }
   ],
   "source": [
    "print(a2)\n",
    "print(a2.cumsum(), np.cumsum(a2))\n",
    "print(a2.cumsum(axis=0), np.cumsum(a2, axis=0))\n",
    "print(a2.cumsum(axis=1), np.cumsum(a2, axis=1))"
   ]
  },
  {
   "cell_type": "markdown",
   "id": "a24df52a",
   "metadata": {},
   "source": [
    "- diff() : 차분 계산"
   ]
  },
  {
   "cell_type": "code",
   "execution_count": 84,
   "id": "61bb6772",
   "metadata": {},
   "outputs": [
    {
     "name": "stdout",
     "output_type": "stream",
     "text": [
      "[[9 4 5]\n",
      " [9 4 7]\n",
      " [6 8 9]]\n",
      "[[-5  1]\n",
      " [-5  3]\n",
      " [ 2  1]]\n",
      "[[ 0  0  2]\n",
      " [-3  4  2]]\n",
      "[[-5  1]\n",
      " [-5  3]\n",
      " [ 2  1]]\n"
     ]
    }
   ],
   "source": [
    "print(a2)\n",
    "print(np.diff(a2))\n",
    "print(np.diff(a2, axis=0))\n",
    "print(np.diff(a2, axis=1))"
   ]
  },
  {
   "cell_type": "markdown",
   "id": "022e2282",
   "metadata": {},
   "source": [
    "- prod() : 곱 계산"
   ]
  },
  {
   "cell_type": "code",
   "execution_count": 85,
   "id": "b6522303",
   "metadata": {},
   "outputs": [
    {
     "name": "stdout",
     "output_type": "stream",
     "text": [
      "[[9 4 5]\n",
      " [9 4 7]\n",
      " [6 8 9]]\n",
      "19595520\n",
      "[486 128 315]\n",
      "[180 252 432]\n"
     ]
    }
   ],
   "source": [
    "print(a2)\n",
    "print(np.prod(a2))\n",
    "print(np.prod(a2, axis=0))\n",
    "print(np.prod(a2, axis=1))"
   ]
  },
  {
   "cell_type": "markdown",
   "id": "8522dfb0",
   "metadata": {},
   "source": [
    "- cumprod() : 누적곱 계산"
   ]
  },
  {
   "cell_type": "code",
   "execution_count": 86,
   "id": "b3c6433a",
   "metadata": {},
   "outputs": [
    {
     "name": "stdout",
     "output_type": "stream",
     "text": [
      "[[9 4 5]\n",
      " [9 4 7]\n",
      " [6 8 9]]\n",
      "[       9       36      180     1620     6480    45360   272160  2177280\n",
      " 19595520]\n",
      "[[  9   4   5]\n",
      " [ 81  16  35]\n",
      " [486 128 315]]\n",
      "[[  9  36 180]\n",
      " [  9  36 252]\n",
      " [  6  48 432]]\n"
     ]
    }
   ],
   "source": [
    "print(a2)\n",
    "print(np.cumprod(a2))\n",
    "print(np.cumprod(a2, axis=0))\n",
    "print(np.cumprod(a2, axis=1))"
   ]
  },
  {
   "cell_type": "markdown",
   "id": "768ed63f",
   "metadata": {},
   "source": [
    "- dot() / matmul() : 점 곱/행렬곱 계산"
   ]
  },
  {
   "cell_type": "code",
   "execution_count": 87,
   "id": "7b396110",
   "metadata": {},
   "outputs": [
    {
     "name": "stdout",
     "output_type": "stream",
     "text": [
      "[[9 4 5]\n",
      " [9 4 7]\n",
      " [6 8 9]]\n",
      "[[1 1 1]\n",
      " [1 1 1]\n",
      " [1 1 1]]\n",
      "[[18 18 18]\n",
      " [20 20 20]\n",
      " [23 23 23]]\n",
      "[[18 18 18]\n",
      " [20 20 20]\n",
      " [23 23 23]]\n"
     ]
    }
   ],
   "source": [
    "print(a2)\n",
    "b2 = np.ones_like(a2)\n",
    "print(b2)\n",
    "print(np.dot(a2, b2))\n",
    "print(np.matmul(a2, b2))"
   ]
  },
  {
   "cell_type": "markdown",
   "id": "968a06cf",
   "metadata": {},
   "source": [
    "- tensordot() : 텐서곱 계산"
   ]
  },
  {
   "cell_type": "code",
   "execution_count": 88,
   "id": "ab2a651f",
   "metadata": {},
   "outputs": [
    {
     "name": "stdout",
     "output_type": "stream",
     "text": [
      "[[9 4 5]\n",
      " [9 4 7]\n",
      " [6 8 9]]\n",
      "[[1 1 1]\n",
      " [1 1 1]\n",
      " [1 1 1]]\n",
      "61\n",
      "[[[[9 9 9]\n",
      "   [9 9 9]\n",
      "   [9 9 9]]\n",
      "\n",
      "  [[4 4 4]\n",
      "   [4 4 4]\n",
      "   [4 4 4]]\n",
      "\n",
      "  [[5 5 5]\n",
      "   [5 5 5]\n",
      "   [5 5 5]]]\n",
      "\n",
      "\n",
      " [[[9 9 9]\n",
      "   [9 9 9]\n",
      "   [9 9 9]]\n",
      "\n",
      "  [[4 4 4]\n",
      "   [4 4 4]\n",
      "   [4 4 4]]\n",
      "\n",
      "  [[7 7 7]\n",
      "   [7 7 7]\n",
      "   [7 7 7]]]\n",
      "\n",
      "\n",
      " [[[6 6 6]\n",
      "   [6 6 6]\n",
      "   [6 6 6]]\n",
      "\n",
      "  [[8 8 8]\n",
      "   [8 8 8]\n",
      "   [8 8 8]]\n",
      "\n",
      "  [[9 9 9]\n",
      "   [9 9 9]\n",
      "   [9 9 9]]]]\n",
      "[[18 18 18]\n",
      " [20 20 20]\n",
      " [23 23 23]]\n"
     ]
    }
   ],
   "source": [
    "print(a2)\n",
    "print(b2)\n",
    "print(np.tensordot(a2, b2))\n",
    "print(np.tensordot(a2, b2, axes=0))\n",
    "print(np.tensordot(a2, b2, axes=1))"
   ]
  },
  {
   "cell_type": "markdown",
   "id": "7ab02212",
   "metadata": {},
   "source": [
    "- cross() : 벡터곱"
   ]
  },
  {
   "cell_type": "code",
   "execution_count": 89,
   "id": "87847f5d",
   "metadata": {},
   "outputs": [
    {
     "name": "stdout",
     "output_type": "stream",
     "text": [
      "[-3  6 -3]\n"
     ]
    }
   ],
   "source": [
    "x = [1,2,3]\n",
    "y = [4,5,6]\n",
    "print(np.cross(x, y))"
   ]
  },
  {
   "cell_type": "markdown",
   "id": "2b6782fb",
   "metadata": {},
   "source": [
    "- inner() / outer() : 내적/외적"
   ]
  },
  {
   "cell_type": "code",
   "execution_count": 90,
   "id": "e1692e9f",
   "metadata": {},
   "outputs": [
    {
     "name": "stdout",
     "output_type": "stream",
     "text": [
      "[[9 4 5]\n",
      " [9 4 7]\n",
      " [6 8 9]]\n",
      "[[1 1 1]\n",
      " [1 1 1]\n",
      " [1 1 1]]\n",
      "[[18 18 18]\n",
      " [20 20 20]\n",
      " [23 23 23]]\n",
      "[[9 9 9 9 9 9 9 9 9]\n",
      " [4 4 4 4 4 4 4 4 4]\n",
      " [5 5 5 5 5 5 5 5 5]\n",
      " [9 9 9 9 9 9 9 9 9]\n",
      " [4 4 4 4 4 4 4 4 4]\n",
      " [7 7 7 7 7 7 7 7 7]\n",
      " [6 6 6 6 6 6 6 6 6]\n",
      " [8 8 8 8 8 8 8 8 8]\n",
      " [9 9 9 9 9 9 9 9 9]]\n"
     ]
    }
   ],
   "source": [
    "print(a2)\n",
    "print(b2)\n",
    "print(np.inner(a2, b2))\n",
    "print(np.outer(a2, b2))"
   ]
  },
  {
   "cell_type": "markdown",
   "id": "b4ec38be",
   "metadata": {},
   "source": [
    "- mean() : 평균 계산"
   ]
  },
  {
   "cell_type": "code",
   "execution_count": 91,
   "id": "cef07fef",
   "metadata": {},
   "outputs": [
    {
     "name": "stdout",
     "output_type": "stream",
     "text": [
      "[[9 4 5]\n",
      " [9 4 7]\n",
      " [6 8 9]]\n",
      "6.777777777777778\n",
      "[8.         5.33333333 7.        ]\n",
      "[6.         6.66666667 7.66666667]\n"
     ]
    }
   ],
   "source": [
    "print(a2)\n",
    "print(np.mean(a2))\n",
    "print(np.mean(a2, axis=0))\n",
    "print(np.mean(a2, axis=1))"
   ]
  },
  {
   "cell_type": "markdown",
   "id": "af3c77fa",
   "metadata": {},
   "source": [
    "- std() :표준편차 계산"
   ]
  },
  {
   "cell_type": "code",
   "execution_count": 92,
   "id": "9c64780b",
   "metadata": {},
   "outputs": [
    {
     "name": "stdout",
     "output_type": "stream",
     "text": [
      "[[9 4 5]\n",
      " [9 4 7]\n",
      " [6 8 9]]\n",
      "1.9876159799998132\n",
      "[1.41421356 1.88561808 1.63299316]\n",
      "[2.1602469  2.05480467 1.24721913]\n"
     ]
    }
   ],
   "source": [
    "print(a2)\n",
    "print(np.std(a2))\n",
    "print(np.std(a2, axis=0))\n",
    "print(np.std(a2, axis=1))"
   ]
  },
  {
   "cell_type": "markdown",
   "id": "e878e61d",
   "metadata": {},
   "source": [
    "- var() : 분산 계산"
   ]
  },
  {
   "cell_type": "code",
   "execution_count": 93,
   "id": "55a1f804",
   "metadata": {},
   "outputs": [
    {
     "name": "stdout",
     "output_type": "stream",
     "text": [
      "[[9 4 5]\n",
      " [9 4 7]\n",
      " [6 8 9]]\n",
      "3.9506172839506175\n",
      "[2.         3.55555556 2.66666667]\n",
      "[4.66666667 4.22222222 1.55555556]\n"
     ]
    }
   ],
   "source": [
    "print(a2)\n",
    "print(np.var(a2))\n",
    "print(np.var(a2, axis=0))\n",
    "print(np.var(a2, axis=1))"
   ]
  },
  {
   "cell_type": "markdown",
   "id": "718cffe0",
   "metadata": {},
   "source": [
    "- min() : 최소값"
   ]
  },
  {
   "cell_type": "code",
   "execution_count": 94,
   "id": "00854360",
   "metadata": {},
   "outputs": [
    {
     "name": "stdout",
     "output_type": "stream",
     "text": [
      "[[9 4 5]\n",
      " [9 4 7]\n",
      " [6 8 9]]\n",
      "4\n",
      "[6 4 5]\n",
      "[4 4 6]\n"
     ]
    }
   ],
   "source": [
    "print(a2)\n",
    "print(np.min(a2))\n",
    "print(np.min(a2, axis=0))\n",
    "print(np.min(a2, axis=1))"
   ]
  },
  {
   "cell_type": "markdown",
   "id": "3dd80069",
   "metadata": {},
   "source": [
    "- max() : 최대값"
   ]
  },
  {
   "cell_type": "code",
   "execution_count": 95,
   "id": "f29f6a64",
   "metadata": {},
   "outputs": [
    {
     "name": "stdout",
     "output_type": "stream",
     "text": [
      "[[9 4 5]\n",
      " [9 4 7]\n",
      " [6 8 9]]\n",
      "9\n",
      "[9 8 9]\n",
      "[9 9 9]\n"
     ]
    }
   ],
   "source": [
    "print(a2)\n",
    "print(np.max(a2))\n",
    "print(np.max(a2, axis=0))\n",
    "print(np.max(a2, axis=1))"
   ]
  },
  {
   "cell_type": "markdown",
   "id": "aba88b81",
   "metadata": {},
   "source": [
    "- argmin() : 최소값 인덱스"
   ]
  },
  {
   "cell_type": "code",
   "execution_count": 96,
   "id": "81ee4fa2",
   "metadata": {},
   "outputs": [
    {
     "name": "stdout",
     "output_type": "stream",
     "text": [
      "[[9 4 5]\n",
      " [9 4 7]\n",
      " [6 8 9]]\n",
      "1\n",
      "[2 0 0]\n",
      "[1 1 0]\n"
     ]
    }
   ],
   "source": [
    "print(a2)\n",
    "print(np.argmin(a2))\n",
    "print(np.argmin(a2, axis=0))\n",
    "print(np.argmin(a2, axis=1))"
   ]
  },
  {
   "cell_type": "markdown",
   "id": "179a2615",
   "metadata": {},
   "source": [
    "- argmax() : 최대값 인덱스"
   ]
  },
  {
   "cell_type": "code",
   "execution_count": 97,
   "id": "3244a61f",
   "metadata": {},
   "outputs": [
    {
     "name": "stdout",
     "output_type": "stream",
     "text": [
      "[[9 4 5]\n",
      " [9 4 7]\n",
      " [6 8 9]]\n",
      "0\n",
      "[0 2 2]\n",
      "[0 0 2]\n"
     ]
    }
   ],
   "source": [
    "print(a2)\n",
    "print(np.argmax(a2))\n",
    "print(np.argmax(a2, axis=0))\n",
    "print(np.argmax(a2, axis=1))"
   ]
  },
  {
   "cell_type": "markdown",
   "id": "6caca8a9",
   "metadata": {},
   "source": [
    "- median() : 중앙값"
   ]
  },
  {
   "cell_type": "code",
   "execution_count": 98,
   "id": "670ec35e",
   "metadata": {},
   "outputs": [
    {
     "name": "stdout",
     "output_type": "stream",
     "text": [
      "[[9 4 5]\n",
      " [9 4 7]\n",
      " [6 8 9]]\n",
      "7.0\n",
      "[9. 4. 7.]\n",
      "[5. 7. 8.]\n"
     ]
    }
   ],
   "source": [
    "print(a2)\n",
    "print(np.median(a2))\n",
    "print(np.median(a2, axis=0))\n",
    "print(np.median(a2, axis=1))"
   ]
  },
  {
   "cell_type": "markdown",
   "id": "b916c39f",
   "metadata": {},
   "source": [
    "- percentile() : 백분위 수"
   ]
  },
  {
   "cell_type": "code",
   "execution_count": 99,
   "id": "b77d7ca5",
   "metadata": {},
   "outputs": [
    {
     "name": "stdout",
     "output_type": "stream",
     "text": [
      "[0 1 2 3]\n",
      "[0.  0.6 1.2 1.8 2.4 3. ]\n",
      "[0 1 2 2 3 3]\n",
      "[0 0 1 1 2 3]\n",
      "[0 1 1 2 2 3]\n",
      "[0.  0.5 1.5 1.5 2.5 3. ]\n"
     ]
    }
   ],
   "source": [
    "a1 = np.array([0,1,2,3])\n",
    "print(a1)\n",
    "print(np.percentile(a1, [0,20,40,60,80,100], interpolation='linear'))\n",
    "print(np.percentile(a1, [0,20,40,60,80,100], interpolation='higher'))\n",
    "print(np.percentile(a1, [0,20,40,60,80,100], interpolation='lower'))\n",
    "print(np.percentile(a1, [0,20,40,60,80,100], interpolation='nearest'))\n",
    "print(np.percentile(a1, [0,20,40,60,80,100], interpolation='midpoint'))"
   ]
  },
  {
   "cell_type": "markdown",
   "id": "8bd35e6f",
   "metadata": {},
   "source": [
    "- any() : 요소 중 참이 있는지 평가"
   ]
  },
  {
   "cell_type": "code",
   "execution_count": 100,
   "id": "3a9e6dcf",
   "metadata": {},
   "outputs": [
    {
     "name": "stdout",
     "output_type": "stream",
     "text": [
      "[[False False False]\n",
      " [False  True  True]\n",
      " [False  True  True]]\n",
      "True\n",
      "[False  True  True]\n",
      "[False  True  True]\n"
     ]
    }
   ],
   "source": [
    "a2 = np.array([[False,False,False],[False,True,True],[False,True,True]])\n",
    "print(a2)\n",
    "print(np.any(a2))\n",
    "print(np.any(a2, axis=0))\n",
    "print(np.any(a2, axis=1))\n"
   ]
  },
  {
   "cell_type": "markdown",
   "id": "2a4092f6",
   "metadata": {},
   "source": [
    "- all() 모든 요소가 참 인지 평가"
   ]
  },
  {
   "cell_type": "code",
   "execution_count": 101,
   "id": "7c051039",
   "metadata": {},
   "outputs": [
    {
     "name": "stdout",
     "output_type": "stream",
     "text": [
      "[[False False False]\n",
      " [False  True  True]\n",
      " [ True  True  True]]\n",
      "False\n",
      "[False False False]\n",
      "[False False  True]\n"
     ]
    }
   ],
   "source": [
    "a2 = np.array([[False,False,False],[False,True,True],[True,True,True]])\n",
    "print(a2)\n",
    "print(np.all(a2))\n",
    "print(np.all(a2, axis=0))\n",
    "print(np.all(a2, axis=1))"
   ]
  },
  {
   "cell_type": "markdown",
   "id": "b2c44382",
   "metadata": {},
   "source": [
    "## 비교 연산(Comparison Operators)"
   ]
  },
  {
   "cell_type": "markdown",
   "id": "13e82a54",
   "metadata": {},
   "source": [
    "- ### '==' np.equal \n",
    "- ### '!=' np.not_equal\n",
    "- ### '<' np.less\n",
    "- ### '<=' np.less_equal\n",
    "- ### '>' np.greater\n",
    "- ### '>=' np.greater_equal"
   ]
  },
  {
   "cell_type": "code",
   "execution_count": 111,
   "id": "502965e8",
   "metadata": {},
   "outputs": [
    {
     "name": "stdout",
     "output_type": "stream",
     "text": [
      "[1 2 3 4 5 6 7 8 9]\n",
      "[False False False False  True False False False False]\n",
      "[[10  5]\n",
      " [ 4  8]]\n",
      "2\n",
      "[1 1]\n",
      "[1 1]\n"
     ]
    }
   ],
   "source": [
    "a1 = np.arange(1, 10)\n",
    "print(a1)\n",
    "print( a1 == 5)\n",
    "a2 = np.array([[10, 5], [4, 8]])\n",
    "print(a2)\n",
    "print(np.sum(a2 <= 5))\n",
    "print(np.sum(a2 <= 5, axis= 0))\n",
    "print(np.sum(a2 <= 5, axis= 1))"
   ]
  },
  {
   "cell_type": "markdown",
   "id": "d01405e7",
   "metadata": {},
   "source": [
    "- ### np.isclose 배열 두개가 (z*1e+02)% 내외로 가까우면 True, 아니면 False\n",
    "- ### np.isinf 배열이 inf이면 True, 아니면 False\n",
    "- ### np.isfinite 배열이 inf, nan이면 False, 아니면 True"
   ]
  },
  {
   "cell_type": "code",
   "execution_count": 113,
   "id": "2faf6a53",
   "metadata": {},
   "outputs": [
    {
     "name": "stdout",
     "output_type": "stream",
     "text": [
      "[1 2 3 4 5]\n",
      "[1 2 3 4 4]\n",
      "[ True  True  True  True False]\n"
     ]
    }
   ],
   "source": [
    "a1 = np.array([1,2,3,4,5])\n",
    "print(a1)\n",
    "b1 = np.array([1,2,3,4,4])\n",
    "print(b1)\n",
    "print(np.isclose(a1, b1))"
   ]
  },
  {
   "cell_type": "code",
   "execution_count": 118,
   "id": "6d0e9ad5",
   "metadata": {},
   "outputs": [
    {
     "name": "stdout",
     "output_type": "stream",
     "text": [
      "[ nan   2.  inf   4. -inf]\n",
      "[ True False False False False]\n",
      "[False False  True False  True]\n",
      "[False  True False  True False]\n"
     ]
    }
   ],
   "source": [
    "a1 = np.array([np.nan, 2, np.inf, 4, np.NINF])\n",
    "print(a1)\n",
    "print(np.isnan(a1))\n",
    "print(np.isinf(a1))\n",
    "print(np.isfinite(a1)) # 무한대가 아닌 것 !"
   ]
  },
  {
   "cell_type": "markdown",
   "id": "b4296ac2",
   "metadata": {},
   "source": [
    "## 불리언 연산자 (Boolean Operators)"
   ]
  },
  {
   "cell_type": "markdown",
   "id": "db194ab8",
   "metadata": {},
   "source": [
    "- ### '&' np.bitwise_and\n",
    "- ### '|' np.bitwise_or\n",
    "- ### '^' np.bitwise_xor\n",
    "- ### '~' np.bitwise_not"
   ]
  },
  {
   "cell_type": "code",
   "execution_count": 121,
   "id": "926f0a73",
   "metadata": {},
   "outputs": [
    {
     "name": "stdout",
     "output_type": "stream",
     "text": [
      "[[1 2 3]\n",
      " [4 5 6]\n",
      " [7 8 9]]\n",
      "[[False False False]\n",
      " [False False  True]\n",
      " [ True False False]]\n",
      "[6 7]\n"
     ]
    }
   ],
   "source": [
    "a2 = np.arange(1, 10).reshape(3,3)\n",
    "print(a2)\n",
    "\n",
    "print((a2 > 5) & (a2 < 8))\n",
    "print(a2[(a2 > 5) & (a2 < 8)])"
   ]
  },
  {
   "cell_type": "code",
   "execution_count": 124,
   "id": "a9c10903",
   "metadata": {},
   "outputs": [
    {
     "name": "stdout",
     "output_type": "stream",
     "text": [
      "[[ True  True  True]\n",
      " [ True  True  True]\n",
      " [ True  True  True]]\n",
      "[1 2 3 4 5 6 7 8 9]\n"
     ]
    }
   ],
   "source": [
    "print((a2 > 5) | (a2 < 8))\n",
    "print(a2[(a2 > 5) | (a2 < 8)])"
   ]
  },
  {
   "cell_type": "code",
   "execution_count": 125,
   "id": "34f8db01",
   "metadata": {},
   "outputs": [
    {
     "name": "stdout",
     "output_type": "stream",
     "text": [
      "[[ True  True  True]\n",
      " [ True  True False]\n",
      " [False  True  True]]\n",
      "[1 2 3 4 5 8 9]\n"
     ]
    }
   ],
   "source": [
    "print((a2 > 5) ^ (a2 < 8))\n",
    "print(a2[(a2 > 5) ^ (a2 < 8)])"
   ]
  },
  {
   "cell_type": "code",
   "execution_count": 128,
   "id": "26e25804",
   "metadata": {},
   "outputs": [
    {
     "name": "stdout",
     "output_type": "stream",
     "text": [
      "[[ True  True  True]\n",
      " [ True  True False]\n",
      " [False False False]]\n",
      "[1 2 3 4 5]\n"
     ]
    }
   ],
   "source": [
    "print(~ (a2 > 5))\n",
    "print(a2[~(a2 > 5)])"
   ]
  },
  {
   "cell_type": "markdown",
   "id": "47a6a31f",
   "metadata": {},
   "source": [
    "## 배열 정렬\n",
    "- ### sort()"
   ]
  },
  {
   "cell_type": "code",
   "execution_count": null,
   "id": "fbd90352",
   "metadata": {},
   "outputs": [],
   "source": []
  },
  {
   "cell_type": "code",
   "execution_count": 131,
   "id": "7a42a68e",
   "metadata": {},
   "outputs": [
    {
     "name": "stdout",
     "output_type": "stream",
     "text": [
      "[6 5 5 6 1 9 9 8 2 5]\n",
      "[1 2 5 5 5 6 6 8 9 9]\n",
      "[6 5 5 6 1 9 9 8 2 5]\n",
      "[4 8 1 2 9 0 3 7 5 6]\n",
      "[6 5 5 6 1 9 9 8 2 5]\n",
      "None\n",
      "[1 2 5 5 5 6 6 8 9 9]\n"
     ]
    }
   ],
   "source": [
    "a1 = np.random.randint(1, 10, size = 10)\n",
    "print(a1)\n",
    "print(np.sort(a1))\n",
    "print(a1)\n",
    "print(np.argsort(a1))\n",
    "print(a1)\n",
    "print(a1.sort())\n",
    "print(a1)"
   ]
  },
  {
   "cell_type": "code",
   "execution_count": 132,
   "id": "467b072d",
   "metadata": {},
   "outputs": [
    {
     "name": "stdout",
     "output_type": "stream",
     "text": [
      "[[4 8 2]\n",
      " [7 8 8]\n",
      " [6 7 9]]\n",
      "[[4 7 2]\n",
      " [6 8 8]\n",
      " [7 8 9]]\n",
      "[[2 4 8]\n",
      " [7 8 8]\n",
      " [6 7 9]]\n"
     ]
    }
   ],
   "source": [
    "a2 = np.random.randint(1, 10, size = (3,3))\n",
    "print(a2)\n",
    "print(np.sort(a2, axis=0))\n",
    "print(np.sort(a2, axis=1))"
   ]
  },
  {
   "cell_type": "markdown",
   "id": "390327f1",
   "metadata": {},
   "source": [
    "## 부분정렬\n",
    "- ### partition() : 배열에서 k개의 작은 값을 반환"
   ]
  },
  {
   "cell_type": "code",
   "execution_count": 135,
   "id": "56cf73b9",
   "metadata": {},
   "outputs": [
    {
     "name": "stdout",
     "output_type": "stream",
     "text": [
      "[4 3 7 4 7 1 7 1 4 6]\n",
      "[1 1 3 4 4 4 6 7 7 7]\n",
      "[1 1 3 4 4 4 6 7 7 7]\n"
     ]
    }
   ],
   "source": [
    "a1 = np.random.randint(1, 10, size= 10)\n",
    "print(a1)\n",
    "print(np.partition(a1, 5))\n",
    "print(np.partition(a1, 3))"
   ]
  },
  {
   "cell_type": "markdown",
   "id": "728c8fec",
   "metadata": {},
   "source": [
    "## 배열 입출력\n",
    "- ### np.save() Numpy 배열 객체 1개를 파일에 저장, 바이너리\n",
    "- ### np.savez() Numpy 배열 객체 여러개를 파일에 저장, 바이너리\n",
    "- ### np.load() Numpy 배열 저장 파일로 부터 객체 로딩, 바이너리\n",
    "- ### np.loadtxt() 텍스트 파일로부터 배열 로딩, 텍스트\n",
    "- ### np.savetxt() 텍스트 파일에 Numpy 배열 객체 저장, 텍스트"
   ]
  },
  {
   "cell_type": "code",
   "execution_count": 136,
   "id": "8257db02",
   "metadata": {},
   "outputs": [
    {
     "name": "stdout",
     "output_type": "stream",
     "text": [
      "[[9 4 8 5 2]\n",
      " [4 3 2 6 9]\n",
      " [6 8 3 6 9]\n",
      " [5 5 5 5 4]\n",
      " [9 6 8 7 5]]\n"
     ]
    }
   ],
   "source": [
    "a2 = np.random.randint(1, 10, size = (5,5))\n",
    "print(a2)\n",
    "np.save(\"a\", a2)"
   ]
  },
  {
   "cell_type": "code",
   "execution_count": 138,
   "id": "476f1e86",
   "metadata": {},
   "outputs": [
    {
     "name": "stdout",
     "output_type": "stream",
     "text": [
      " D 드라이브의 볼륨: 새 볼륨\n",
      " 볼륨 일련 번호: 308C-A885\n",
      "\n",
      " D:\\temp 디렉터리\n",
      "\n",
      "2022-04-05 (화)  오전 08:49               228 a.npy\n",
      "               1개 파일                 228 바이트\n",
      "               0개 디렉터리  180,783,865,856 바이트 남음\n"
     ]
    }
   ],
   "source": [
    "!dir a*\n",
    "# 2022-04-05 (화)  오전 08:49               228 a.npy"
   ]
  },
  {
   "cell_type": "code",
   "execution_count": 139,
   "id": "018c44ee",
   "metadata": {},
   "outputs": [
    {
     "name": "stdout",
     "output_type": "stream",
     "text": [
      "[[6 5 8 9 6]\n",
      " [8 3 4 4 9]\n",
      " [9 2 1 6 9]\n",
      " [3 9 8 8 3]\n",
      " [9 2 6 1 7]]\n"
     ]
    }
   ],
   "source": [
    "b2 = np.random.randint(1, 10, size = (5,5))\n",
    "print(b2)\n",
    "np.savez('ab', a2, b2)"
   ]
  },
  {
   "cell_type": "code",
   "execution_count": 140,
   "id": "af8c3d7d",
   "metadata": {},
   "outputs": [
    {
     "name": "stdout",
     "output_type": "stream",
     "text": [
      " D 드라이브의 볼륨: 새 볼륨\n",
      " 볼륨 일련 번호: 308C-A885\n",
      "\n",
      " D:\\temp 디렉터리\n",
      "\n",
      "2022-04-05 (화)  오전 08:49               228 a.npy\n",
      "2022-04-05 (화)  오전 08:50               706 ab.npz\n",
      "               2개 파일                 934 바이트\n",
      "               0개 디렉터리  180,783,865,856 바이트 남음\n"
     ]
    }
   ],
   "source": [
    "!dir a*\n",
    "# 2022-04-05 (화)  오전 08:49               228 a.npy\n",
    "# 2022-04-05 (화)  오전 08:50               706 ab.npz"
   ]
  },
  {
   "cell_type": "code",
   "execution_count": 141,
   "id": "697f11a3",
   "metadata": {},
   "outputs": [
    {
     "name": "stdout",
     "output_type": "stream",
     "text": [
      "[[9 4 8 5 2]\n",
      " [4 3 2 6 9]\n",
      " [6 8 3 6 9]\n",
      " [5 5 5 5 4]\n",
      " [9 6 8 7 5]]\n"
     ]
    }
   ],
   "source": [
    "npy = np.load('a.npy')\n",
    "print(npy)"
   ]
  },
  {
   "cell_type": "code",
   "execution_count": 143,
   "id": "07650bcf",
   "metadata": {},
   "outputs": [
    {
     "name": "stdout",
     "output_type": "stream",
     "text": [
      "['arr_0', 'arr_1']\n"
     ]
    }
   ],
   "source": [
    "npz = np.load('ab.npz')\n",
    "print(npz.files)"
   ]
  },
  {
   "cell_type": "code",
   "execution_count": 144,
   "id": "81ca20bf",
   "metadata": {},
   "outputs": [
    {
     "name": "stdout",
     "output_type": "stream",
     "text": [
      "[[9 4 8 5 2]\n",
      " [4 3 2 6 9]\n",
      " [6 8 3 6 9]\n",
      " [5 5 5 5 4]\n",
      " [9 6 8 7 5]]\n",
      "[[6 5 8 9 6]\n",
      " [8 3 4 4 9]\n",
      " [9 2 1 6 9]\n",
      " [3 9 8 8 3]\n",
      " [9 2 6 1 7]]\n"
     ]
    }
   ],
   "source": [
    "print(npz['arr_0'])\n",
    "print(npz['arr_1'])"
   ]
  },
  {
   "cell_type": "code",
   "execution_count": 145,
   "id": "65371d72",
   "metadata": {},
   "outputs": [],
   "source": [
    "np.savetxt('a.csv', a2, delimiter=',')"
   ]
  },
  {
   "cell_type": "code",
   "execution_count": 146,
   "id": "9f8939cf",
   "metadata": {},
   "outputs": [
    {
     "name": "stdout",
     "output_type": "stream",
     "text": [
      " D 드라이브의 볼륨: 새 볼륨\n",
      " 볼륨 일련 번호: 308C-A885\n",
      "\n",
      " D:\\temp 디렉터리\n",
      "\n",
      "2022-04-05 (화)  오전 09:30               630 a.csv\n",
      "2022-04-05 (화)  오전 08:49               228 a.npy\n",
      "2022-04-05 (화)  오전 08:50               706 ab.npz\n",
      "               3개 파일               1,564 바이트\n",
      "               0개 디렉터리  180,783,861,760 바이트 남음\n"
     ]
    }
   ],
   "source": [
    "!dir a*"
   ]
  },
  {
   "cell_type": "code",
   "execution_count": 147,
   "id": "8b130273",
   "metadata": {},
   "outputs": [
    {
     "name": "stdout",
     "output_type": "stream",
     "text": [
      "9.000000000000000000e+00,4.000000000000000000e+00,8.000000000000000000e+00,5.000000000000000000e+00,2.000000000000000000e+00\n",
      "4.000000000000000000e+00,3.000000000000000000e+00,2.000000000000000000e+00,6.000000000000000000e+00,9.000000000000000000e+00\n",
      "6.000000000000000000e+00,8.000000000000000000e+00,3.000000000000000000e+00,6.000000000000000000e+00,9.000000000000000000e+00\n",
      "5.000000000000000000e+00,5.000000000000000000e+00,5.000000000000000000e+00,5.000000000000000000e+00,4.000000000000000000e+00\n",
      "9.000000000000000000e+00,6.000000000000000000e+00,8.000000000000000000e+00,7.000000000000000000e+00,5.000000000000000000e+00\n"
     ]
    }
   ],
   "source": [
    "!more a.csv"
   ]
  },
  {
   "cell_type": "code",
   "execution_count": 148,
   "id": "3886baa5",
   "metadata": {},
   "outputs": [
    {
     "name": "stdout",
     "output_type": "stream",
     "text": [
      "[[9. 4. 8. 5. 2.]\n",
      " [4. 3. 2. 6. 9.]\n",
      " [6. 8. 3. 6. 9.]\n",
      " [5. 5. 5. 5. 4.]\n",
      " [9. 6. 8. 7. 5.]]\n"
     ]
    }
   ],
   "source": [
    "csv = np.loadtxt('a.csv', delimiter=',')\n",
    "print(csv)"
   ]
  },
  {
   "cell_type": "code",
   "execution_count": 149,
   "id": "d88ccb57",
   "metadata": {},
   "outputs": [],
   "source": [
    "np.savetxt('b.csv', b2, delimiter=',', fmt='%.2e', header='c1, c2, c3, c4, c5')"
   ]
  },
  {
   "cell_type": "code",
   "execution_count": 150,
   "id": "b9a9575c",
   "metadata": {},
   "outputs": [
    {
     "name": "stdout",
     "output_type": "stream",
     "text": [
      " D 드라이브의 볼륨: 새 볼륨\n",
      " 볼륨 일련 번호: 308C-A885\n",
      "\n",
      " D:\\temp 디렉터리\n",
      "\n",
      "2022-04-05 (화)  오전 09:32               252 b.csv\n",
      "               1개 파일                 252 바이트\n",
      "               0개 디렉터리  180,783,861,760 바이트 남음\n"
     ]
    }
   ],
   "source": [
    "!dir b*"
   ]
  },
  {
   "cell_type": "code",
   "execution_count": 151,
   "id": "89fc8854",
   "metadata": {},
   "outputs": [
    {
     "name": "stdout",
     "output_type": "stream",
     "text": [
      "# c1, c2, c3, c4, c5\n",
      "6.00e+00,5.00e+00,8.00e+00,9.00e+00,6.00e+00\n",
      "8.00e+00,3.00e+00,4.00e+00,4.00e+00,9.00e+00\n",
      "9.00e+00,2.00e+00,1.00e+00,6.00e+00,9.00e+00\n",
      "3.00e+00,9.00e+00,8.00e+00,8.00e+00,3.00e+00\n",
      "9.00e+00,2.00e+00,6.00e+00,1.00e+00,7.00e+00\n"
     ]
    }
   ],
   "source": [
    "!more b.csv"
   ]
  },
  {
   "cell_type": "code",
   "execution_count": 152,
   "id": "b918e202",
   "metadata": {},
   "outputs": [
    {
     "name": "stdout",
     "output_type": "stream",
     "text": [
      "[[6. 5. 8. 9. 6.]\n",
      " [8. 3. 4. 4. 9.]\n",
      " [9. 2. 1. 6. 9.]\n",
      " [3. 9. 8. 8. 3.]\n",
      " [9. 2. 6. 1. 7.]]\n"
     ]
    }
   ],
   "source": [
    "csv = np.loadtxt('b.csv', delimiter=',')\n",
    "print(csv)"
   ]
  },
  {
   "cell_type": "code",
   "execution_count": null,
   "id": "790315c6",
   "metadata": {},
   "outputs": [],
   "source": []
  }
 ],
 "metadata": {
  "kernelspec": {
   "display_name": "Python 3 (ipykernel)",
   "language": "python",
   "name": "python3"
  },
  "language_info": {
   "codemirror_mode": {
    "name": "ipython",
    "version": 3
   },
   "file_extension": ".py",
   "mimetype": "text/x-python",
   "name": "python",
   "nbconvert_exporter": "python",
   "pygments_lexer": "ipython3",
   "version": "3.9.11"
  },
  "toc": {
   "base_numbering": 1,
   "nav_menu": {},
   "number_sections": true,
   "sideBar": true,
   "skip_h1_title": false,
   "title_cell": "Table of Contents",
   "title_sidebar": "Contents",
   "toc_cell": false,
   "toc_position": {},
   "toc_section_display": true,
   "toc_window_display": false
  }
 },
 "nbformat": 4,
 "nbformat_minor": 5
}
